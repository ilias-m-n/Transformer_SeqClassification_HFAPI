{
 "cells": [
  {
   "cell_type": "markdown",
   "metadata": {
    "id": "XoiMafe4IZH2"
   },
   "source": [
    "# Package Imports"
   ]
  },
  {
   "cell_type": "code",
   "execution_count": 2,
   "metadata": {
    "executionInfo": {
     "elapsed": 15263,
     "status": "ok",
     "timestamp": 1708008827623,
     "user": {
      "displayName": "Ilias Matthias Nasri",
      "userId": "17108654071466836904"
     },
     "user_tz": -60
    },
    "id": "BzaTHUtWcb4T"
   },
   "outputs": [],
   "source": [
    "import numpy as np\n",
    "import pandas as pd\n",
    "import os\n",
    "import re\n",
    "\n",
    "\n",
    "from datasets import load_from_disk, load_metric, concatenate_datasets, DatasetDict, load_dataset\n",
    "import evaluate\n",
    "from transformers import (\n",
    "     AutoTokenizer,\n",
    "     DataCollatorWithPadding,\n",
    "     TrainingArguments,\n",
    "     AutoModelForSequenceClassification,\n",
    "     Trainer,\n",
    "     logging,\n",
    "     AdamW,\n",
    "     get_scheduler,\n",
    "     TrainerCallback,\n",
    ")\n",
    "import torch\n",
    "from ray import tune, train\n",
    "import pickle\n",
    "from datetime import datetime\n",
    "from sklearn.metrics import confusion_matrix\n",
    "import utility.utility as util\n",
    "import utility.CustomTrainer as ct\n",
    "import utility.ModelConfig as mc"
   ]
  },
  {
   "cell_type": "markdown",
   "metadata": {
    "id": "iuTZlO1sxSpi"
   },
   "source": [
    "# Global Settings:"
   ]
  },
  {
   "cell_type": "code",
   "execution_count": 3,
   "metadata": {
    "executionInfo": {
     "elapsed": 20,
     "status": "ok",
     "timestamp": 1708008827624,
     "user": {
      "displayName": "Ilias Matthias Nasri",
      "userId": "17108654071466836904"
     },
     "user_tz": -60
    },
    "id": "9OqkdIpjxSpj"
   },
   "outputs": [],
   "source": [
    "\"\"\"\n",
    "Filepath to project-root folder, needs to be set manually if not directly called from project folder.\n",
    "\"\"\"\n",
    "path_cwd = os.getcwd()\n",
    "\n",
    "\"\"\"\n",
    "Disables/enables progress bars during training of model.\n",
    "-\"True\": no progress bars shown during training\n",
    "-\"False\": progress bars shown during training\n",
    "\"\"\"\n",
    "_disable_tqdm = False\n",
    "\n",
    "\"\"\"\n",
    "Name of ModelConfig file created during HPS\n",
    "\"\"\"\n",
    "_name_config_file = \"ModelConfig_roberta-base_HalaJada_FinStmts_ConsUncons_Sliding_English_SeqClass_15_02_24_11_38.pkl\""
   ]
  },
  {
   "cell_type": "markdown",
   "metadata": {
    "id": "28bjl_7LxSpj"
   },
   "source": [
    "# Load ModelConfig"
   ]
  },
  {
   "cell_type": "code",
   "execution_count": 4,
   "metadata": {
    "executionInfo": {
     "elapsed": 20,
     "status": "ok",
     "timestamp": 1708008827624,
     "user": {
      "displayName": "Ilias Matthias Nasri",
      "userId": "17108654071466836904"
     },
     "user_tz": -60
    },
    "id": "S1fe2d9GxSpk"
   },
   "outputs": [],
   "source": [
    "\"\"\"\n",
    "path to file with modelconfig\n",
    "\"\"\"\n",
    "path_file_modelconfig = os.path.join(\"modelconfigs\", _name_config_file)\n",
    "\n",
    "model_config = None\n",
    "with open(os.path.join(path_cwd, path_file_modelconfig), \"rb\") as f:\n",
    "    model_config = pickle.load(f)"
   ]
  },
  {
   "cell_type": "markdown",
   "metadata": {
    "id": "IrZ91MToIwEf"
   },
   "source": [
    "# Add Metadata to ModelConfig"
   ]
  },
  {
   "cell_type": "code",
   "execution_count": 5,
   "metadata": {
    "executionInfo": {
     "elapsed": 20,
     "status": "ok",
     "timestamp": 1708008827624,
     "user": {
      "displayName": "Ilias Matthias Nasri",
      "userId": "17108654071466836904"
     },
     "user_tz": -60
    },
    "id": "iGkjtCJ6yAgG"
   },
   "outputs": [],
   "source": [
    "\"\"\"\n",
    "Timestamp of final training. Used for file and directory naming schemes.\n",
    "\"\"\"\n",
    "model_config.timestamp_final = datetime.now().strftime(\"%d_%m_%y_%H_%M\")\n",
    "\n",
    "\"\"\"\n",
    "Alter base model name for naming of path\n",
    "\"\"\"\n",
    "base_model_altered = re.sub(r'/', '___', model_config.base_model)\n",
    "\n",
    "\"\"\"\n",
    "Directory path to final training data.\n",
    "\"\"\"\n",
    "model_config.path_final_training = os.path.join(\"training_data\" , base_model_altered, \"final_training\" + \"_\" + model_config.timestamp_final)\n",
    "\n",
    "\"\"\"\n",
    "Weighting schemes.\n",
    "\"\"\"\n",
    "class_weighting_schemes = {\"rev_prop\": util.get_reverse_prop_class_weights}\n",
    "\n",
    "\"\"\"\n",
    "Path to folder with trained model\n",
    "\"\"\"\n",
    "model_config.path_trained_model = os.path.join(\"trained_models\", base_model_altered + \"_\" + model_config.timestamp_final)"
   ]
  },
  {
   "cell_type": "markdown",
   "metadata": {
    "id": "hYAAghnjIzBt"
   },
   "source": [
    "# Setup"
   ]
  },
  {
   "cell_type": "markdown",
   "metadata": {
    "id": "YVotGcMsQLKC"
   },
   "source": [
    "## Load Data"
   ]
  },
  {
   "cell_type": "code",
   "execution_count": 6,
   "metadata": {
    "colab": {
     "base_uri": "https://localhost:8080/"
    },
    "executionInfo": {
     "elapsed": 5252,
     "status": "ok",
     "timestamp": 1708008832857,
     "user": {
      "displayName": "Ilias Matthias Nasri",
      "userId": "17108654071466836904"
     },
     "user_tz": -60
    },
    "id": "dnPxVcJqQLSC",
    "outputId": "004516ac-9ca1-4a67-8302-4fc0b130723b"
   },
   "outputs": [
    {
     "name": "stderr",
     "output_type": "stream",
     "text": [
      "/usr/local/lib/python3.10/dist-packages/huggingface_hub/utils/_token.py:88: UserWarning: \n",
      "The secret `HF_TOKEN` does not exist in your Colab secrets.\n",
      "To authenticate with the Hugging Face Hub, create a token in your settings tab (https://huggingface.co/settings/tokens), set it as secret in your Google Colab and restart your session.\n",
      "You will be able to reuse this secret in all of your notebooks.\n",
      "Please note that authentication is recommended but still optional to access public models or datasets.\n",
      "  warnings.warn(\n"
     ]
    }
   ],
   "source": [
    "raw_datasets = util.load_data(model_config.from_hub, model_config.dataset_name_hub, os.path.join(path_cwd, model_config.path_dataset_local))"
   ]
  },
  {
   "cell_type": "markdown",
   "metadata": {
    "id": "PSWymJCUxSpn"
   },
   "source": [
    "During final training we merge the training with valdidation dataset and train the model with the priorly found best hyperparameters."
   ]
  },
  {
   "cell_type": "code",
   "execution_count": 7,
   "metadata": {
    "executionInfo": {
     "elapsed": 2,
     "status": "ok",
     "timestamp": 1708008832857,
     "user": {
      "displayName": "Ilias Matthias Nasri",
      "userId": "17108654071466836904"
     },
     "user_tz": -60
    },
    "id": "PwDdLbV0muVf"
   },
   "outputs": [],
   "source": [
    "raw_datasets = util.prep_datasets_final_train(raw_datasets)"
   ]
  },
  {
   "cell_type": "markdown",
   "metadata": {
    "id": "dY2CaIW5QCY3"
   },
   "source": [
    "## Load Tokenizer"
   ]
  },
  {
   "cell_type": "code",
   "execution_count": 8,
   "metadata": {
    "executionInfo": {
     "elapsed": 790,
     "status": "ok",
     "timestamp": 1708008833645,
     "user": {
      "displayName": "Ilias Matthias Nasri",
      "userId": "17108654071466836904"
     },
     "user_tz": -60
    },
    "id": "w7qbphxLQAia"
   },
   "outputs": [],
   "source": [
    "tokenizer = AutoTokenizer.from_pretrained(model_config.base_model)"
   ]
  },
  {
   "cell_type": "markdown",
   "metadata": {
    "id": "1MUIwuMIQ0Hx"
   },
   "source": [
    "## Function that returns the Tokenizer - needed to employ data mapping.\n",
    "\n",
    "Note: Adjust this to desired task."
   ]
  },
  {
   "cell_type": "code",
   "execution_count": 9,
   "metadata": {
    "executionInfo": {
     "elapsed": 3,
     "status": "ok",
     "timestamp": 1708008833645,
     "user": {
      "displayName": "Ilias Matthias Nasri",
      "userId": "17108654071466836904"
     },
     "user_tz": -60
    },
    "id": "6F83g3QqQAo3"
   },
   "outputs": [],
   "source": [
    "def tokenize_function(example):\n",
    "    return tokenizer(example[\"text\"], truncation=True)"
   ]
  },
  {
   "cell_type": "markdown",
   "metadata": {
    "id": "EwQnmO5sRKgG"
   },
   "source": [
    "## Tokenize dataset"
   ]
  },
  {
   "cell_type": "code",
   "execution_count": 10,
   "metadata": {
    "colab": {
     "base_uri": "https://localhost:8080/",
     "height": 49,
     "referenced_widgets": [
      "85e3b56e2e194e57a63692aa6b5821ca",
      "b279df08774d4815b0948e4c9f60f108",
      "c832e466b3854755aa5f677c55755f18",
      "481c0a1a25ae41ec9d753bcb881312cc",
      "a1b15564858d4cccbb4a7a43fe24b86e",
      "83d8ee7ed048451ca3ed4c19ca12ab11",
      "48de9a61ee204849a4720299142824b3",
      "04a7919ae35e4956bf47347077288a25",
      "ba82cb3b5b1c44a5989322e96e300070",
      "936cfcd18760415184e6a260054508a9",
      "dde512df2d714b408a24034cd6ecbf9a"
     ]
    },
    "executionInfo": {
     "elapsed": 31535,
     "status": "ok",
     "timestamp": 1708008865177,
     "user": {
      "displayName": "Ilias Matthias Nasri",
      "userId": "17108654071466836904"
     },
     "user_tz": -60
    },
    "id": "QKBC_DDhc0sY",
    "outputId": "ab02cd15-b8fa-4bc1-93ac-8e86763c40d0"
   },
   "outputs": [
    {
     "data": {
      "application/vnd.jupyter.widget-view+json": {
       "model_id": "85e3b56e2e194e57a63692aa6b5821ca",
       "version_major": 2,
       "version_minor": 0
      },
      "text/plain": [
       "Map:   0%|          | 0/11880 [00:00<?, ? examples/s]"
      ]
     },
     "metadata": {},
     "output_type": "display_data"
    }
   ],
   "source": [
    "tokenized_datasets = raw_datasets.map(tokenize_function, batched=True)"
   ]
  },
  {
   "cell_type": "markdown",
   "metadata": {
    "id": "CvgXUeGJRZEg"
   },
   "source": [
    "## Instantiate DataCollator"
   ]
  },
  {
   "cell_type": "code",
   "execution_count": 11,
   "metadata": {
    "executionInfo": {
     "elapsed": 11,
     "status": "ok",
     "timestamp": 1708008865177,
     "user": {
      "displayName": "Ilias Matthias Nasri",
      "userId": "17108654071466836904"
     },
     "user_tz": -60
    },
    "id": "LWJoWdWJRZMe"
   },
   "outputs": [],
   "source": [
    "data_collator = DataCollatorWithPadding(tokenizer=tokenizer)"
   ]
  },
  {
   "cell_type": "markdown",
   "metadata": {
    "id": "WJWBvuj_JL8y"
   },
   "source": [
    "## Create instance of TrainingArguments\n",
    "\n",
    "Initialize TrainingArguments with best_run hyperparameters found during HPS."
   ]
  },
  {
   "cell_type": "code",
   "execution_count": 12,
   "metadata": {
    "executionInfo": {
     "elapsed": 349,
     "status": "ok",
     "timestamp": 1708008865517,
     "user": {
      "displayName": "Ilias Matthias Nasri",
      "userId": "17108654071466836904"
     },
     "user_tz": -60
    },
    "id": "O9t82JVzjz4j"
   },
   "outputs": [],
   "source": [
    "training_args = TrainingArguments(\n",
    "    output_dir = os.path.join(path_cwd, model_config.path_final_training),\n",
    "    save_strategy = \"epoch\",\n",
    "    evaluation_strategy = \"epoch\",\n",
    "    logging_strategy = \"epoch\",\n",
    "    disable_tqdm = _disable_tqdm,\n",
    "    **model_config.best_run.hyperparameters,\n",
    "    )"
   ]
  },
  {
   "cell_type": "markdown",
   "metadata": {
    "id": "tjtjOcw3JQ-E"
   },
   "source": [
    "## Model Initialzation"
   ]
  },
  {
   "cell_type": "code",
   "execution_count": 13,
   "metadata": {
    "executionInfo": {
     "elapsed": 3,
     "status": "ok",
     "timestamp": 1708008865518,
     "user": {
      "displayName": "Ilias Matthias Nasri",
      "userId": "17108654071466836904"
     },
     "user_tz": -60
    },
    "id": "wibKu7-clCxD"
   },
   "outputs": [],
   "source": [
    "def model_init_frozen(freeze_layers):\n",
    "  model = AutoModelForSequenceClassification.from_pretrained(model_config.base_model, num_labels=model_config.num_labels, return_dict=True, ignore_mismatched_sizes = model_config.reset_model_head)\n",
    "  for name, param in model.named_parameters():\n",
    "    # *conditional statement: currently all encoder layers are frozen\n",
    "    freeze_layers = [\"layer.\" + str(i) for i in range(11)]\n",
    "    for fl in freeze_layers:\n",
    "      if fl in name:\n",
    "        param.requires_grad = False\n",
    "  return model\n",
    "\n",
    "def model_init():\n",
    "  return AutoModelForSequenceClassification.from_pretrained(model_config.base_model, num_labels=model_config.num_labels, return_dict=True, ignore_mismatched_sizes = model_config.reset_model_head)\n",
    "\n",
    "model_inits = {\"unfrozen\": model_init, \"frozen\": model_init_frozen}"
   ]
  },
  {
   "cell_type": "markdown",
   "metadata": {
    "id": "Y_GKy0VSadKm"
   },
   "source": [
    "## Create evaluation metric object and compute function to pass to Trainer."
   ]
  },
  {
   "cell_type": "code",
   "execution_count": 14,
   "metadata": {
    "executionInfo": {
     "elapsed": 4221,
     "status": "ok",
     "timestamp": 1708008869737,
     "user": {
      "displayName": "Ilias Matthias Nasri",
      "userId": "17108654071466836904"
     },
     "user_tz": -60
    },
    "id": "-8lzwBpt8xoV"
   },
   "outputs": [],
   "source": [
    "clf_metrics = evaluate.combine(model_config.eval_metrics)\n",
    "\n",
    "def compute_metrics(eval_preds):\n",
    "  logits, labels = eval_preds\n",
    "  predictions = np.argmax(logits, axis=-1)\n",
    "  return clf_metrics.compute(predictions = predictions, references = labels)"
   ]
  },
  {
   "cell_type": "markdown",
   "metadata": {
    "id": "YvjtaX67SAxi"
   },
   "source": [
    "# Initialize CustomTrainer"
   ]
  },
  {
   "cell_type": "code",
   "execution_count": 15,
   "metadata": {
    "colab": {
     "base_uri": "https://localhost:8080/"
    },
    "executionInfo": {
     "elapsed": 1496,
     "status": "ok",
     "timestamp": 1708008871231,
     "user": {
      "displayName": "Ilias Matthias Nasri",
      "userId": "17108654071466836904"
     },
     "user_tz": -60
    },
    "id": "YvWoN2ipR71V",
    "outputId": "b2fe21b7-564c-4a10-b116-8c06ccce7c4c"
   },
   "outputs": [
    {
     "name": "stderr",
     "output_type": "stream",
     "text": [
      "Some weights of RobertaForSequenceClassification were not initialized from the model checkpoint at roberta-base and are newly initialized: ['classifier.dense.weight', 'classifier.out_proj.bias', 'classifier.dense.bias', 'classifier.out_proj.weight']\n",
      "You should probably TRAIN this model on a down-stream task to be able to use it for predictions and inference.\n"
     ]
    }
   ],
   "source": [
    "trainer = ct.CustomTrainer(\n",
    "    type_loss = model_config.loss_fct,\n",
    "    model_init = model_inits[model_config.frozen],\n",
    "    class_weights = model_config.class_weights,\n",
    "    args = training_args,\n",
    "    train_dataset=tokenized_datasets[\"train_val\"],\n",
    "    eval_dataset=tokenized_datasets[\"test\"],\n",
    "    data_collator=data_collator,\n",
    "    tokenizer=tokenizer,\n",
    "    compute_metrics = compute_metrics,\n",
    ")"
   ]
  },
  {
   "cell_type": "markdown",
   "metadata": {
    "id": "O7ILtPjkStWa"
   },
   "source": [
    "# Train Model"
   ]
  },
  {
   "cell_type": "code",
   "execution_count": 16,
   "metadata": {
    "colab": {
     "base_uri": "https://localhost:8080/",
     "height": 279
    },
    "executionInfo": {
     "elapsed": 1212443,
     "status": "ok",
     "timestamp": 1708010083672,
     "user": {
      "displayName": "Ilias Matthias Nasri",
      "userId": "17108654071466836904"
     },
     "user_tz": -60
    },
    "id": "y9Zru4FHqnnB",
    "outputId": "6222ca2c-68bd-4bca-b930-a38b87fcd9ed"
   },
   "outputs": [
    {
     "name": "stderr",
     "output_type": "stream",
     "text": [
      "Some weights of RobertaForSequenceClassification were not initialized from the model checkpoint at roberta-base and are newly initialized: ['classifier.dense.weight', 'classifier.out_proj.bias', 'classifier.dense.bias', 'classifier.out_proj.weight']\n",
      "You should probably TRAIN this model on a down-stream task to be able to use it for predictions and inference.\n",
      "You're using a RobertaTokenizerFast tokenizer. Please note that with a fast tokenizer, using the `__call__` method is faster than using a method to encode the text followed by a call to the `pad` method to get a padded encoding.\n"
     ]
    },
    {
     "data": {
      "text/html": [
       "\n",
       "    <div>\n",
       "      \n",
       "      <progress value='4455' max='4455' style='width:300px; height:20px; vertical-align: middle;'></progress>\n",
       "      [4455/4455 20:09, Epoch 3/3]\n",
       "    </div>\n",
       "    <table border=\"1\" class=\"dataframe\">\n",
       "  <thead>\n",
       " <tr style=\"text-align: left;\">\n",
       "      <th>Epoch</th>\n",
       "      <th>Training Loss</th>\n",
       "      <th>Validation Loss</th>\n",
       "      <th>Accuracy</th>\n",
       "      <th>Precision</th>\n",
       "      <th>Recall</th>\n",
       "      <th>F1</th>\n",
       "      <th>Matthews Correlation</th>\n",
       "    </tr>\n",
       "  </thead>\n",
       "  <tbody>\n",
       "    <tr>\n",
       "      <td>1</td>\n",
       "      <td>0.409400</td>\n",
       "      <td>0.252077</td>\n",
       "      <td>0.907996</td>\n",
       "      <td>0.935005</td>\n",
       "      <td>0.892730</td>\n",
       "      <td>0.913379</td>\n",
       "      <td>0.816383</td>\n",
       "    </tr>\n",
       "    <tr>\n",
       "      <td>2</td>\n",
       "      <td>0.251300</td>\n",
       "      <td>0.281072</td>\n",
       "      <td>0.922447</td>\n",
       "      <td>0.943985</td>\n",
       "      <td>0.911348</td>\n",
       "      <td>0.927379</td>\n",
       "      <td>0.844832</td>\n",
       "    </tr>\n",
       "    <tr>\n",
       "      <td>3</td>\n",
       "      <td>0.218800</td>\n",
       "      <td>0.283106</td>\n",
       "      <td>0.927746</td>\n",
       "      <td>0.939748</td>\n",
       "      <td>0.926418</td>\n",
       "      <td>0.933036</td>\n",
       "      <td>0.854695</td>\n",
       "    </tr>\n",
       "  </tbody>\n",
       "</table><p>"
      ],
      "text/plain": [
       "<IPython.core.display.HTML object>"
      ]
     },
     "metadata": {},
     "output_type": "display_data"
    },
    {
     "data": {
      "text/plain": [
       "TrainOutput(global_step=4455, training_loss=0.293176570939429, metrics={'train_runtime': 1210.1982, 'train_samples_per_second': 29.45, 'train_steps_per_second': 3.681, 'total_flos': 9377278013030400.0, 'train_loss': 0.293176570939429, 'epoch': 3.0})"
      ]
     },
     "execution_count": 16,
     "metadata": {},
     "output_type": "execute_result"
    }
   ],
   "source": [
    "trainer.train()"
   ]
  },
  {
   "cell_type": "markdown",
   "metadata": {
    "id": "QqRO6i2wxSpv"
   },
   "source": [
    "## Save dataframe with evaluation metrics per training epoch"
   ]
  },
  {
   "cell_type": "code",
   "execution_count": 17,
   "metadata": {
    "executionInfo": {
     "elapsed": 1557,
     "status": "ok",
     "timestamp": 1708010085216,
     "user": {
      "displayName": "Ilias Matthias Nasri",
      "userId": "17108654071466836904"
     },
     "user_tz": -60
    },
    "id": "XMlMOC9jxSpv"
   },
   "outputs": [],
   "source": [
    "model_config.training_log_df = util.process_log_history(trainer.state.log_history,\n",
    "                                                        int(trainer.args.num_train_epochs))"
   ]
  },
  {
   "cell_type": "markdown",
   "metadata": {
    "id": "_4PJeZDKxSpv"
   },
   "source": [
    "# Model evaluation on test data"
   ]
  },
  {
   "cell_type": "code",
   "execution_count": 23,
   "metadata": {
    "colab": {
     "base_uri": "https://localhost:8080/",
     "height": 17
    },
    "executionInfo": {
     "elapsed": 22018,
     "status": "ok",
     "timestamp": 1708010445289,
     "user": {
      "displayName": "Ilias Matthias Nasri",
      "userId": "17108654071466836904"
     },
     "user_tz": -60
    },
    "id": "WlWl5l05xSpw",
    "outputId": "9bb785a2-97fe-4fd5-e723-be84773c00c7"
   },
   "outputs": [
    {
     "data": {
      "text/html": [],
      "text/plain": [
       "<IPython.core.display.HTML object>"
      ]
     },
     "metadata": {},
     "output_type": "display_data"
    }
   ],
   "source": [
    "predictions = trainer.predict(tokenized_datasets[\"test\"])"
   ]
  },
  {
   "cell_type": "markdown",
   "metadata": {
    "id": "BDws4KtEJ7j3"
   },
   "source": [
    "# Process predictions"
   ]
  },
  {
   "cell_type": "code",
   "execution_count": 24,
   "metadata": {
    "executionInfo": {
     "elapsed": 527,
     "status": "ok",
     "timestamp": 1708010445801,
     "user": {
      "displayName": "Ilias Matthias Nasri",
      "userId": "17108654071466836904"
     },
     "user_tz": -60
    },
    "id": "acz-QC_XJ6iG"
   },
   "outputs": [],
   "source": [
    "raw_test_data_df = raw_datasets[\"test\"].to_pandas()\n",
    "pred_df , pred_mv_df = util.process_prediction_results(raw_test_data_df, predictions, \"original_id\", \"text\", \"id\", \"label\", model_config.flag_mv)\n",
    "model_config.predictions_df = pred_df\n",
    "model_config.predictions_mv_df = pred_mv_df"
   ]
  },
  {
   "cell_type": "markdown",
   "metadata": {
    "id": "YSSpvaa3qhQS"
   },
   "source": [
    "## Compute evaluation metrics and confusion matrix on test dataset"
   ]
  },
  {
   "cell_type": "code",
   "execution_count": 25,
   "metadata": {
    "executionInfo": {
     "elapsed": 2,
     "status": "ok",
     "timestamp": 1708010445801,
     "user": {
      "displayName": "Ilias Matthias Nasri",
      "userId": "17108654071466836904"
     },
     "user_tz": -60
    },
    "id": "UrqgTVIbxSpw"
   },
   "outputs": [],
   "source": [
    "model_config.evaluation_results = clf_metrics.compute(pred_df[\"label\"], pred_df[\"pred_label\"])\n",
    "model_config.confusion_matrix = confusion_matrix(pred_df[\"label\"], pred_df[\"pred_label\"])"
   ]
  },
  {
   "cell_type": "markdown",
   "metadata": {
    "id": "3xoldC6XLkmO"
   },
   "source": [
    "## If majority voting scheme employed do the same for aggragated predictions"
   ]
  },
  {
   "cell_type": "code",
   "execution_count": 26,
   "metadata": {
    "executionInfo": {
     "elapsed": 409,
     "status": "ok",
     "timestamp": 1708010446208,
     "user": {
      "displayName": "Ilias Matthias Nasri",
      "userId": "17108654071466836904"
     },
     "user_tz": -60
    },
    "id": "9VDe0rYyxSpx"
   },
   "outputs": [],
   "source": [
    "if model_config.flag_mv:\n",
    "    model_config.evaluation_results_mv = clf_metrics.compute(pred_mv_df[\"label\"], pred_mv_df[\"pred_mv_agg_logits_label\"])\n",
    "    model_config.confusion_matrix_mv = confusion_matrix(pred_mv_df[\"label\"], pred_mv_df[\"pred_mv_agg_logits_label\"])"
   ]
  },
  {
   "cell_type": "markdown",
   "metadata": {
    "id": "Ruto7j3uqlDo"
   },
   "source": [
    "# Save Model"
   ]
  },
  {
   "cell_type": "code",
   "execution_count": 27,
   "metadata": {
    "executionInfo": {
     "elapsed": 6911,
     "status": "ok",
     "timestamp": 1708010453118,
     "user": {
      "displayName": "Ilias Matthias Nasri",
      "userId": "17108654071466836904"
     },
     "user_tz": -60
    },
    "id": "PALVDWj5qlPG"
   },
   "outputs": [],
   "source": [
    "trainer.save_model(os.path.join(path_cwd, model_config.path_trained_model))"
   ]
  },
  {
   "cell_type": "markdown",
   "metadata": {
    "id": "nP5nH8omxSpy"
   },
   "source": [
    "# Save Model Config"
   ]
  },
  {
   "cell_type": "code",
   "execution_count": 28,
   "metadata": {
    "executionInfo": {
     "elapsed": 13,
     "status": "ok",
     "timestamp": 1708010453119,
     "user": {
      "displayName": "Ilias Matthias Nasri",
      "userId": "17108654071466836904"
     },
     "user_tz": -60
    },
    "id": "M04YMOz-xSpy"
   },
   "outputs": [],
   "source": [
    "with open(os.path.join(path_cwd, path_file_modelconfig), 'wb') as f:\n",
    "    pickle.dump(model_config, f)"
   ]
  }
 ],
 "metadata": {
  "accelerator": "GPU",
  "colab": {
   "gpuType": "V100",
   "provenance": []
  },
  "kernelspec": {
   "display_name": "venv_ml_bert",
   "language": "python",
   "name": "venv_ml_bert"
  },
  "language_info": {
   "codemirror_mode": {
    "name": "ipython",
    "version": 3
   },
   "file_extension": ".py",
   "mimetype": "text/x-python",
   "name": "python",
   "nbconvert_exporter": "python",
   "pygments_lexer": "ipython3",
   "version": "3.9.5"
  },
  "widgets": {
   "application/vnd.jupyter.widget-state+json": {
    "04a7919ae35e4956bf47347077288a25": {
     "model_module": "@jupyter-widgets/base",
     "model_module_version": "1.2.0",
     "model_name": "LayoutModel",
     "state": {
      "_model_module": "@jupyter-widgets/base",
      "_model_module_version": "1.2.0",
      "_model_name": "LayoutModel",
      "_view_count": null,
      "_view_module": "@jupyter-widgets/base",
      "_view_module_version": "1.2.0",
      "_view_name": "LayoutView",
      "align_content": null,
      "align_items": null,
      "align_self": null,
      "border": null,
      "bottom": null,
      "display": null,
      "flex": null,
      "flex_flow": null,
      "grid_area": null,
      "grid_auto_columns": null,
      "grid_auto_flow": null,
      "grid_auto_rows": null,
      "grid_column": null,
      "grid_gap": null,
      "grid_row": null,
      "grid_template_areas": null,
      "grid_template_columns": null,
      "grid_template_rows": null,
      "height": null,
      "justify_content": null,
      "justify_items": null,
      "left": null,
      "margin": null,
      "max_height": null,
      "max_width": null,
      "min_height": null,
      "min_width": null,
      "object_fit": null,
      "object_position": null,
      "order": null,
      "overflow": null,
      "overflow_x": null,
      "overflow_y": null,
      "padding": null,
      "right": null,
      "top": null,
      "visibility": null,
      "width": null
     }
    },
    "481c0a1a25ae41ec9d753bcb881312cc": {
     "model_module": "@jupyter-widgets/controls",
     "model_module_version": "1.5.0",
     "model_name": "HTMLModel",
     "state": {
      "_dom_classes": [],
      "_model_module": "@jupyter-widgets/controls",
      "_model_module_version": "1.5.0",
      "_model_name": "HTMLModel",
      "_view_count": null,
      "_view_module": "@jupyter-widgets/controls",
      "_view_module_version": "1.5.0",
      "_view_name": "HTMLView",
      "description": "",
      "description_tooltip": null,
      "layout": "IPY_MODEL_936cfcd18760415184e6a260054508a9",
      "placeholder": "​",
      "style": "IPY_MODEL_dde512df2d714b408a24034cd6ecbf9a",
      "value": " 11880/11880 [00:30&lt;00:00, 344.41 examples/s]"
     }
    },
    "48de9a61ee204849a4720299142824b3": {
     "model_module": "@jupyter-widgets/controls",
     "model_module_version": "1.5.0",
     "model_name": "DescriptionStyleModel",
     "state": {
      "_model_module": "@jupyter-widgets/controls",
      "_model_module_version": "1.5.0",
      "_model_name": "DescriptionStyleModel",
      "_view_count": null,
      "_view_module": "@jupyter-widgets/base",
      "_view_module_version": "1.2.0",
      "_view_name": "StyleView",
      "description_width": ""
     }
    },
    "83d8ee7ed048451ca3ed4c19ca12ab11": {
     "model_module": "@jupyter-widgets/base",
     "model_module_version": "1.2.0",
     "model_name": "LayoutModel",
     "state": {
      "_model_module": "@jupyter-widgets/base",
      "_model_module_version": "1.2.0",
      "_model_name": "LayoutModel",
      "_view_count": null,
      "_view_module": "@jupyter-widgets/base",
      "_view_module_version": "1.2.0",
      "_view_name": "LayoutView",
      "align_content": null,
      "align_items": null,
      "align_self": null,
      "border": null,
      "bottom": null,
      "display": null,
      "flex": null,
      "flex_flow": null,
      "grid_area": null,
      "grid_auto_columns": null,
      "grid_auto_flow": null,
      "grid_auto_rows": null,
      "grid_column": null,
      "grid_gap": null,
      "grid_row": null,
      "grid_template_areas": null,
      "grid_template_columns": null,
      "grid_template_rows": null,
      "height": null,
      "justify_content": null,
      "justify_items": null,
      "left": null,
      "margin": null,
      "max_height": null,
      "max_width": null,
      "min_height": null,
      "min_width": null,
      "object_fit": null,
      "object_position": null,
      "order": null,
      "overflow": null,
      "overflow_x": null,
      "overflow_y": null,
      "padding": null,
      "right": null,
      "top": null,
      "visibility": null,
      "width": null
     }
    },
    "85e3b56e2e194e57a63692aa6b5821ca": {
     "model_module": "@jupyter-widgets/controls",
     "model_module_version": "1.5.0",
     "model_name": "HBoxModel",
     "state": {
      "_dom_classes": [],
      "_model_module": "@jupyter-widgets/controls",
      "_model_module_version": "1.5.0",
      "_model_name": "HBoxModel",
      "_view_count": null,
      "_view_module": "@jupyter-widgets/controls",
      "_view_module_version": "1.5.0",
      "_view_name": "HBoxView",
      "box_style": "",
      "children": [
       "IPY_MODEL_b279df08774d4815b0948e4c9f60f108",
       "IPY_MODEL_c832e466b3854755aa5f677c55755f18",
       "IPY_MODEL_481c0a1a25ae41ec9d753bcb881312cc"
      ],
      "layout": "IPY_MODEL_a1b15564858d4cccbb4a7a43fe24b86e"
     }
    },
    "936cfcd18760415184e6a260054508a9": {
     "model_module": "@jupyter-widgets/base",
     "model_module_version": "1.2.0",
     "model_name": "LayoutModel",
     "state": {
      "_model_module": "@jupyter-widgets/base",
      "_model_module_version": "1.2.0",
      "_model_name": "LayoutModel",
      "_view_count": null,
      "_view_module": "@jupyter-widgets/base",
      "_view_module_version": "1.2.0",
      "_view_name": "LayoutView",
      "align_content": null,
      "align_items": null,
      "align_self": null,
      "border": null,
      "bottom": null,
      "display": null,
      "flex": null,
      "flex_flow": null,
      "grid_area": null,
      "grid_auto_columns": null,
      "grid_auto_flow": null,
      "grid_auto_rows": null,
      "grid_column": null,
      "grid_gap": null,
      "grid_row": null,
      "grid_template_areas": null,
      "grid_template_columns": null,
      "grid_template_rows": null,
      "height": null,
      "justify_content": null,
      "justify_items": null,
      "left": null,
      "margin": null,
      "max_height": null,
      "max_width": null,
      "min_height": null,
      "min_width": null,
      "object_fit": null,
      "object_position": null,
      "order": null,
      "overflow": null,
      "overflow_x": null,
      "overflow_y": null,
      "padding": null,
      "right": null,
      "top": null,
      "visibility": null,
      "width": null
     }
    },
    "a1b15564858d4cccbb4a7a43fe24b86e": {
     "model_module": "@jupyter-widgets/base",
     "model_module_version": "1.2.0",
     "model_name": "LayoutModel",
     "state": {
      "_model_module": "@jupyter-widgets/base",
      "_model_module_version": "1.2.0",
      "_model_name": "LayoutModel",
      "_view_count": null,
      "_view_module": "@jupyter-widgets/base",
      "_view_module_version": "1.2.0",
      "_view_name": "LayoutView",
      "align_content": null,
      "align_items": null,
      "align_self": null,
      "border": null,
      "bottom": null,
      "display": null,
      "flex": null,
      "flex_flow": null,
      "grid_area": null,
      "grid_auto_columns": null,
      "grid_auto_flow": null,
      "grid_auto_rows": null,
      "grid_column": null,
      "grid_gap": null,
      "grid_row": null,
      "grid_template_areas": null,
      "grid_template_columns": null,
      "grid_template_rows": null,
      "height": null,
      "justify_content": null,
      "justify_items": null,
      "left": null,
      "margin": null,
      "max_height": null,
      "max_width": null,
      "min_height": null,
      "min_width": null,
      "object_fit": null,
      "object_position": null,
      "order": null,
      "overflow": null,
      "overflow_x": null,
      "overflow_y": null,
      "padding": null,
      "right": null,
      "top": null,
      "visibility": null,
      "width": null
     }
    },
    "b279df08774d4815b0948e4c9f60f108": {
     "model_module": "@jupyter-widgets/controls",
     "model_module_version": "1.5.0",
     "model_name": "HTMLModel",
     "state": {
      "_dom_classes": [],
      "_model_module": "@jupyter-widgets/controls",
      "_model_module_version": "1.5.0",
      "_model_name": "HTMLModel",
      "_view_count": null,
      "_view_module": "@jupyter-widgets/controls",
      "_view_module_version": "1.5.0",
      "_view_name": "HTMLView",
      "description": "",
      "description_tooltip": null,
      "layout": "IPY_MODEL_83d8ee7ed048451ca3ed4c19ca12ab11",
      "placeholder": "​",
      "style": "IPY_MODEL_48de9a61ee204849a4720299142824b3",
      "value": "Map: 100%"
     }
    },
    "ba82cb3b5b1c44a5989322e96e300070": {
     "model_module": "@jupyter-widgets/controls",
     "model_module_version": "1.5.0",
     "model_name": "ProgressStyleModel",
     "state": {
      "_model_module": "@jupyter-widgets/controls",
      "_model_module_version": "1.5.0",
      "_model_name": "ProgressStyleModel",
      "_view_count": null,
      "_view_module": "@jupyter-widgets/base",
      "_view_module_version": "1.2.0",
      "_view_name": "StyleView",
      "bar_color": null,
      "description_width": ""
     }
    },
    "c832e466b3854755aa5f677c55755f18": {
     "model_module": "@jupyter-widgets/controls",
     "model_module_version": "1.5.0",
     "model_name": "FloatProgressModel",
     "state": {
      "_dom_classes": [],
      "_model_module": "@jupyter-widgets/controls",
      "_model_module_version": "1.5.0",
      "_model_name": "FloatProgressModel",
      "_view_count": null,
      "_view_module": "@jupyter-widgets/controls",
      "_view_module_version": "1.5.0",
      "_view_name": "ProgressView",
      "bar_style": "success",
      "description": "",
      "description_tooltip": null,
      "layout": "IPY_MODEL_04a7919ae35e4956bf47347077288a25",
      "max": 11880,
      "min": 0,
      "orientation": "horizontal",
      "style": "IPY_MODEL_ba82cb3b5b1c44a5989322e96e300070",
      "value": 11880
     }
    },
    "dde512df2d714b408a24034cd6ecbf9a": {
     "model_module": "@jupyter-widgets/controls",
     "model_module_version": "1.5.0",
     "model_name": "DescriptionStyleModel",
     "state": {
      "_model_module": "@jupyter-widgets/controls",
      "_model_module_version": "1.5.0",
      "_model_name": "DescriptionStyleModel",
      "_view_count": null,
      "_view_module": "@jupyter-widgets/base",
      "_view_module_version": "1.2.0",
      "_view_name": "StyleView",
      "description_width": ""
     }
    }
   }
  }
 },
 "nbformat": 4,
 "nbformat_minor": 4
}
