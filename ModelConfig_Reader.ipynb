{
 "cells": [
  {
   "cell_type": "markdown",
   "id": "2af0a675-4eb9-443b-9985-742047be7116",
   "metadata": {},
   "source": [
    "# Import Packages"
   ]
  },
  {
   "cell_type": "code",
   "execution_count": 1,
   "id": "3c9e84bc-f654-4502-9970-fe5b4cc82624",
   "metadata": {},
   "outputs": [],
   "source": [
    "import os\n",
    "import pandas as pd\n",
    "import numpy as np\n",
    "import pickle\n",
    "from datetime import datetime\n",
    "import matplotlib.pyplot as plt\n",
    "from transformers import TrainingArguments\n",
    "\n",
    "import utility.ModelConfig as mc\n",
    "\n",
    "import sqlite3\n",
    "\n",
    "import utility.utility as util\n",
    "\n",
    "# resets import once changes have been applied\n",
    "%load_ext autoreload\n",
    "%autoreload 2"
   ]
  },
  {
   "cell_type": "markdown",
   "id": "c64f80f5-566e-4ccc-af92-60e6834ee1d2",
   "metadata": {},
   "source": [
    "# Load ModelConfig"
   ]
  },
  {
   "cell_type": "code",
   "execution_count": 2,
   "id": "9641e0a8-2985-430a-a41a-d75133f729a2",
   "metadata": {},
   "outputs": [],
   "source": [
    "\"\"\"\n",
    "path to local\n",
    "\"\"\"\n",
    "path_cwd = os.getcwd()\n",
    "\n",
    "\"\"\"\n",
    "name of modelconfig file\n",
    "\"\"\"\n",
    "_name_config_file = \"ModelConfig_roberta-base_English_ConsUncons_07_02_24_23_52.pkl\"\n",
    "\n",
    "\"\"\"\n",
    "path to file with modelconfig\n",
    "\"\"\"\n",
    "path_file_modelconfig = os.path.join(\"modelconfigs\", _name_config_file)"
   ]
  },
  {
   "cell_type": "code",
   "execution_count": 3,
   "id": "90dc9487-7935-4a7f-afaa-b2a423e5c437",
   "metadata": {},
   "outputs": [],
   "source": [
    "model_config = None\n",
    "with open(os.path.join(path_cwd, path_file_modelconfig), \"rb\") as f:\n",
    "    model_config = pickle.load(f)"
   ]
  },
  {
   "cell_type": "markdown",
   "id": "4a4086ea-7db8-4763-9492-e3b4da5dc842",
   "metadata": {},
   "source": [
    "# ModelConfig"
   ]
  },
  {
   "cell_type": "code",
   "execution_count": 4,
   "id": "03c7771f-bc68-4143-9d41-6a1362d8b14b",
   "metadata": {},
   "outputs": [
    {
     "data": {
      "text/plain": [
       "'roberta-base'"
      ]
     },
     "execution_count": 4,
     "metadata": {},
     "output_type": "execute_result"
    }
   ],
   "source": [
    "model_config.base_model"
   ]
  },
  {
   "cell_type": "code",
   "execution_count": 5,
   "id": "b7a79fe2-9db6-4ec0-8562-c0f9557a3a52",
   "metadata": {},
   "outputs": [
    {
     "data": {
      "text/plain": [
       "'07_02_24_23_52'"
      ]
     },
     "execution_count": 5,
     "metadata": {},
     "output_type": "execute_result"
    }
   ],
   "source": [
    "model_config.timestamp_initial"
   ]
  },
  {
   "cell_type": "code",
   "execution_count": 6,
   "id": "9c3dd9f7-b194-4bfa-a9e8-1636d554b64e",
   "metadata": {},
   "outputs": [
    {
     "data": {
      "text/plain": [
       "'Binary Classification _ with study object and hps log history'"
      ]
     },
     "execution_count": 6,
     "metadata": {},
     "output_type": "execute_result"
    }
   ],
   "source": [
    "model_config.task"
   ]
  },
  {
   "cell_type": "code",
   "execution_count": 7,
   "id": "a9cf8eb2-4f0a-427d-b66c-abe516a1a038",
   "metadata": {},
   "outputs": [
    {
     "data": {
      "text/plain": [
       "'ce'"
      ]
     },
     "execution_count": 7,
     "metadata": {},
     "output_type": "execute_result"
    }
   ],
   "source": [
    "model_config.loss_fct"
   ]
  },
  {
   "cell_type": "code",
   "execution_count": 8,
   "id": "415c08bf-2ae3-4edb-b54c-ee1f17a2daeb",
   "metadata": {},
   "outputs": [
    {
     "data": {
      "text/plain": [
       "True"
      ]
     },
     "execution_count": 8,
     "metadata": {},
     "output_type": "execute_result"
    }
   ],
   "source": [
    "model_config.from_hub"
   ]
  },
  {
   "cell_type": "code",
   "execution_count": 9,
   "id": "064a6379-e14f-4248-be4b-ed2b31b185f5",
   "metadata": {},
   "outputs": [
    {
     "data": {
      "text/plain": [
       "'HalaJada/FinStmts_ConsUncons_Sliding_English_SeqClass'"
      ]
     },
     "execution_count": 9,
     "metadata": {},
     "output_type": "execute_result"
    }
   ],
   "source": [
    "model_config.dataset_name_hub"
   ]
  },
  {
   "cell_type": "code",
   "execution_count": 10,
   "id": "81e1d3e8-d391-4290-b2ca-7779f3e7de6f",
   "metadata": {},
   "outputs": [
    {
     "data": {
      "text/plain": [
       "''"
      ]
     },
     "execution_count": 10,
     "metadata": {},
     "output_type": "execute_result"
    }
   ],
   "source": [
    "model_config.dataset_name_local"
   ]
  },
  {
   "cell_type": "code",
   "execution_count": 11,
   "id": "73b9846b-f55b-46fd-bb87-b9d87ffff013",
   "metadata": {},
   "outputs": [
    {
     "data": {
      "text/plain": [
       "'datasets/'"
      ]
     },
     "execution_count": 11,
     "metadata": {},
     "output_type": "execute_result"
    }
   ],
   "source": [
    "model_config.path_dataset_local"
   ]
  },
  {
   "cell_type": "code",
   "execution_count": 12,
   "id": "ba200f43-72b3-461b-ad76-bd35ea66966b",
   "metadata": {},
   "outputs": [
    {
     "data": {
      "text/plain": [
       "2"
      ]
     },
     "execution_count": 12,
     "metadata": {},
     "output_type": "execute_result"
    }
   ],
   "source": [
    "model_config.num_labels"
   ]
  },
  {
   "cell_type": "code",
   "execution_count": 13,
   "id": "fa927bf9-c83b-48db-ac44-8d0e3eb08358",
   "metadata": {},
   "outputs": [
    {
     "data": {
      "text/plain": [
       "'rev_prop'"
      ]
     },
     "execution_count": 13,
     "metadata": {},
     "output_type": "execute_result"
    }
   ],
   "source": [
    "model_config.weight_scheme"
   ]
  },
  {
   "cell_type": "code",
   "execution_count": 14,
   "id": "a42482f8-54df-468f-96dc-85ef2fb3ada8",
   "metadata": {},
   "outputs": [
    {
     "data": {
      "text/plain": [
       "[2.170212765957447, 1.8545454545454547]"
      ]
     },
     "execution_count": 14,
     "metadata": {},
     "output_type": "execute_result"
    }
   ],
   "source": [
    "model_config.class_weights"
   ]
  },
  {
   "cell_type": "code",
   "execution_count": 15,
   "id": "df90e1b0-6ecd-41dc-b867-f9e961664e5d",
   "metadata": {},
   "outputs": [
    {
     "data": {
      "text/plain": [
       "['accuracy', 'precision', 'recall', 'f1', 'matthews_correlation']"
      ]
     },
     "execution_count": 15,
     "metadata": {},
     "output_type": "execute_result"
    }
   ],
   "source": [
    "model_config.eval_metrics"
   ]
  },
  {
   "cell_type": "code",
   "execution_count": 16,
   "id": "64d33f31-1188-4270-8955-f37341322aff",
   "metadata": {},
   "outputs": [
    {
     "data": {
      "text/plain": [
       "'eval_matthews_correlation'"
      ]
     },
     "execution_count": 16,
     "metadata": {},
     "output_type": "execute_result"
    }
   ],
   "source": [
    "model_config.metric_best_model"
   ]
  },
  {
   "cell_type": "code",
   "execution_count": 17,
   "id": "81925ed0-42c4-4671-b73e-57b9cc372d21",
   "metadata": {},
   "outputs": [
    {
     "data": {
      "text/plain": [
       "4"
      ]
     },
     "execution_count": 17,
     "metadata": {},
     "output_type": "execute_result"
    }
   ],
   "source": [
    "model_config.no_trials"
   ]
  },
  {
   "cell_type": "code",
   "execution_count": 18,
   "id": "d463d9ee-2049-405b-b776-ca7afdca26bf",
   "metadata": {},
   "outputs": [
    {
     "data": {
      "text/plain": [
       "'unfrozen'"
      ]
     },
     "execution_count": 18,
     "metadata": {},
     "output_type": "execute_result"
    }
   ],
   "source": [
    "model_config.frozen"
   ]
  },
  {
   "cell_type": "code",
   "execution_count": 19,
   "id": "5a033df5-bc1c-48af-ab6e-5e6fb4dc1992",
   "metadata": {},
   "outputs": [
    {
     "data": {
      "text/plain": [
       "BestRun(run_id='3', objective=0.8427250396334782, hyperparameters={'learning_rate': 1.7271482785239705e-05, 'per_device_train_batch_size': 8, 'num_train_epochs': 2, 'weight_decay': 0.014332091054584207, 'warmup_ratio': 0.0024918166633538965}, run_summary=None)"
      ]
     },
     "execution_count": 19,
     "metadata": {},
     "output_type": "execute_result"
    }
   ],
   "source": [
    "model_config.best_run"
   ]
  },
  {
   "cell_type": "code",
   "execution_count": 20,
   "id": "56c4f53b-d2d4-445e-a111-47fd9e8aeae4",
   "metadata": {},
   "outputs": [
    {
     "data": {
      "text/plain": [
       "'training_data/roberta-base/initial_training_07_02_24_23_52'"
      ]
     },
     "execution_count": 20,
     "metadata": {},
     "output_type": "execute_result"
    }
   ],
   "source": [
    "model_config.path_initial_training"
   ]
  },
  {
   "cell_type": "code",
   "execution_count": 21,
   "id": "64c5b1d3-9b04-461a-b8d1-90d0ba403130",
   "metadata": {},
   "outputs": [
    {
     "data": {
      "text/plain": [
       "True"
      ]
     },
     "execution_count": 21,
     "metadata": {},
     "output_type": "execute_result"
    }
   ],
   "source": [
    "model_config.flag_mv"
   ]
  },
  {
   "cell_type": "code",
   "execution_count": 22,
   "id": "f5091437-37d3-48ff-8a3b-c4a0c85ee5e3",
   "metadata": {},
   "outputs": [
    {
     "data": {
      "text/html": [
       "<div>\n",
       "<style scoped>\n",
       "    .dataframe tbody tr th:only-of-type {\n",
       "        vertical-align: middle;\n",
       "    }\n",
       "\n",
       "    .dataframe tbody tr th {\n",
       "        vertical-align: top;\n",
       "    }\n",
       "\n",
       "    .dataframe thead th {\n",
       "        text-align: right;\n",
       "    }\n",
       "</style>\n",
       "<table border=\"1\" class=\"dataframe\">\n",
       "  <thead>\n",
       "    <tr style=\"text-align: right;\">\n",
       "      <th></th>\n",
       "      <th>loss</th>\n",
       "      <th>learning_rate</th>\n",
       "      <th>eval_loss</th>\n",
       "      <th>eval_accuracy</th>\n",
       "      <th>eval_precision</th>\n",
       "      <th>eval_recall</th>\n",
       "      <th>eval_f1</th>\n",
       "      <th>eval_matthews_correlation</th>\n",
       "      <th>eval_runtime</th>\n",
       "      <th>eval_samples_per_second</th>\n",
       "      <th>eval_steps_per_second</th>\n",
       "      <th>epoch</th>\n",
       "      <th>step</th>\n",
       "      <th>trial_no</th>\n",
       "    </tr>\n",
       "  </thead>\n",
       "  <tbody>\n",
       "    <tr>\n",
       "      <th>0</th>\n",
       "      <td>0.3851</td>\n",
       "      <td>3.179255e-05</td>\n",
       "      <td>0.269523</td>\n",
       "      <td>0.911398</td>\n",
       "      <td>0.897071</td>\n",
       "      <td>0.945326</td>\n",
       "      <td>0.920567</td>\n",
       "      <td>0.822000</td>\n",
       "      <td>23.0250</td>\n",
       "      <td>90.684</td>\n",
       "      <td>11.336</td>\n",
       "      <td>1.0</td>\n",
       "      <td>1224</td>\n",
       "      <td>1</td>\n",
       "    </tr>\n",
       "    <tr>\n",
       "      <th>1</th>\n",
       "      <td>0.2257</td>\n",
       "      <td>0.000000e+00</td>\n",
       "      <td>0.323429</td>\n",
       "      <td>0.921456</td>\n",
       "      <td>0.920277</td>\n",
       "      <td>0.936508</td>\n",
       "      <td>0.928322</td>\n",
       "      <td>0.841629</td>\n",
       "      <td>22.8528</td>\n",
       "      <td>91.367</td>\n",
       "      <td>11.421</td>\n",
       "      <td>2.0</td>\n",
       "      <td>2448</td>\n",
       "      <td>1</td>\n",
       "    </tr>\n",
       "    <tr>\n",
       "      <th>2</th>\n",
       "      <td>0.4116</td>\n",
       "      <td>1.853576e-06</td>\n",
       "      <td>0.287803</td>\n",
       "      <td>0.882184</td>\n",
       "      <td>0.905109</td>\n",
       "      <td>0.874780</td>\n",
       "      <td>0.889686</td>\n",
       "      <td>0.763862</td>\n",
       "      <td>23.1541</td>\n",
       "      <td>90.178</td>\n",
       "      <td>11.272</td>\n",
       "      <td>1.0</td>\n",
       "      <td>612</td>\n",
       "      <td>2</td>\n",
       "    </tr>\n",
       "    <tr>\n",
       "      <th>3</th>\n",
       "      <td>0.2127</td>\n",
       "      <td>9.267878e-07</td>\n",
       "      <td>0.240910</td>\n",
       "      <td>0.911877</td>\n",
       "      <td>0.904600</td>\n",
       "      <td>0.936508</td>\n",
       "      <td>0.920277</td>\n",
       "      <td>0.822459</td>\n",
       "      <td>22.9110</td>\n",
       "      <td>91.135</td>\n",
       "      <td>11.392</td>\n",
       "      <td>2.0</td>\n",
       "      <td>1224</td>\n",
       "      <td>2</td>\n",
       "    </tr>\n",
       "    <tr>\n",
       "      <th>4</th>\n",
       "      <td>0.1736</td>\n",
       "      <td>0.000000e+00</td>\n",
       "      <td>0.247190</td>\n",
       "      <td>0.914272</td>\n",
       "      <td>0.908469</td>\n",
       "      <td>0.936508</td>\n",
       "      <td>0.922275</td>\n",
       "      <td>0.827231</td>\n",
       "      <td>22.9041</td>\n",
       "      <td>91.163</td>\n",
       "      <td>11.395</td>\n",
       "      <td>3.0</td>\n",
       "      <td>1836</td>\n",
       "      <td>2</td>\n",
       "    </tr>\n",
       "    <tr>\n",
       "      <th>5</th>\n",
       "      <td>0.6348</td>\n",
       "      <td>5.525295e-05</td>\n",
       "      <td>0.693432</td>\n",
       "      <td>0.543103</td>\n",
       "      <td>0.543103</td>\n",
       "      <td>1.000000</td>\n",
       "      <td>0.703911</td>\n",
       "      <td>0.000000</td>\n",
       "      <td>24.5371</td>\n",
       "      <td>85.096</td>\n",
       "      <td>10.637</td>\n",
       "      <td>1.0</td>\n",
       "      <td>1224</td>\n",
       "      <td>3</td>\n",
       "    </tr>\n",
       "    <tr>\n",
       "      <th>6</th>\n",
       "      <td>0.6445</td>\n",
       "      <td>2.762647e-05</td>\n",
       "      <td>0.476926</td>\n",
       "      <td>0.827586</td>\n",
       "      <td>0.790977</td>\n",
       "      <td>0.927690</td>\n",
       "      <td>0.853896</td>\n",
       "      <td>0.659131</td>\n",
       "      <td>22.8954</td>\n",
       "      <td>91.197</td>\n",
       "      <td>11.400</td>\n",
       "      <td>2.0</td>\n",
       "      <td>2448</td>\n",
       "      <td>3</td>\n",
       "    </tr>\n",
       "    <tr>\n",
       "      <th>7</th>\n",
       "      <td>0.5162</td>\n",
       "      <td>0.000000e+00</td>\n",
       "      <td>0.496613</td>\n",
       "      <td>0.803161</td>\n",
       "      <td>0.821333</td>\n",
       "      <td>0.814815</td>\n",
       "      <td>0.818061</td>\n",
       "      <td>0.603694</td>\n",
       "      <td>22.5886</td>\n",
       "      <td>92.436</td>\n",
       "      <td>11.555</td>\n",
       "      <td>3.0</td>\n",
       "      <td>3672</td>\n",
       "      <td>3</td>\n",
       "    </tr>\n",
       "    <tr>\n",
       "      <th>8</th>\n",
       "      <td>0.3133</td>\n",
       "      <td>8.660506e-06</td>\n",
       "      <td>0.370929</td>\n",
       "      <td>0.914751</td>\n",
       "      <td>0.895041</td>\n",
       "      <td>0.955026</td>\n",
       "      <td>0.924061</td>\n",
       "      <td>0.829395</td>\n",
       "      <td>22.9718</td>\n",
       "      <td>90.894</td>\n",
       "      <td>11.362</td>\n",
       "      <td>1.0</td>\n",
       "      <td>1224</td>\n",
       "      <td>4</td>\n",
       "    </tr>\n",
       "    <tr>\n",
       "      <th>9</th>\n",
       "      <td>0.1512</td>\n",
       "      <td>0.000000e+00</td>\n",
       "      <td>0.415259</td>\n",
       "      <td>0.921935</td>\n",
       "      <td>0.915312</td>\n",
       "      <td>0.943563</td>\n",
       "      <td>0.929223</td>\n",
       "      <td>0.842725</td>\n",
       "      <td>23.2319</td>\n",
       "      <td>89.876</td>\n",
       "      <td>11.235</td>\n",
       "      <td>2.0</td>\n",
       "      <td>2448</td>\n",
       "      <td>4</td>\n",
       "    </tr>\n",
       "  </tbody>\n",
       "</table>\n",
       "</div>"
      ],
      "text/plain": [
       "     loss  learning_rate  eval_loss  eval_accuracy  eval_precision  \\\n",
       "0  0.3851   3.179255e-05   0.269523       0.911398        0.897071   \n",
       "1  0.2257   0.000000e+00   0.323429       0.921456        0.920277   \n",
       "2  0.4116   1.853576e-06   0.287803       0.882184        0.905109   \n",
       "3  0.2127   9.267878e-07   0.240910       0.911877        0.904600   \n",
       "4  0.1736   0.000000e+00   0.247190       0.914272        0.908469   \n",
       "5  0.6348   5.525295e-05   0.693432       0.543103        0.543103   \n",
       "6  0.6445   2.762647e-05   0.476926       0.827586        0.790977   \n",
       "7  0.5162   0.000000e+00   0.496613       0.803161        0.821333   \n",
       "8  0.3133   8.660506e-06   0.370929       0.914751        0.895041   \n",
       "9  0.1512   0.000000e+00   0.415259       0.921935        0.915312   \n",
       "\n",
       "   eval_recall   eval_f1  eval_matthews_correlation  eval_runtime  \\\n",
       "0     0.945326  0.920567                   0.822000       23.0250   \n",
       "1     0.936508  0.928322                   0.841629       22.8528   \n",
       "2     0.874780  0.889686                   0.763862       23.1541   \n",
       "3     0.936508  0.920277                   0.822459       22.9110   \n",
       "4     0.936508  0.922275                   0.827231       22.9041   \n",
       "5     1.000000  0.703911                   0.000000       24.5371   \n",
       "6     0.927690  0.853896                   0.659131       22.8954   \n",
       "7     0.814815  0.818061                   0.603694       22.5886   \n",
       "8     0.955026  0.924061                   0.829395       22.9718   \n",
       "9     0.943563  0.929223                   0.842725       23.2319   \n",
       "\n",
       "   eval_samples_per_second  eval_steps_per_second  epoch  step  trial_no  \n",
       "0                   90.684                 11.336    1.0  1224         1  \n",
       "1                   91.367                 11.421    2.0  2448         1  \n",
       "2                   90.178                 11.272    1.0   612         2  \n",
       "3                   91.135                 11.392    2.0  1224         2  \n",
       "4                   91.163                 11.395    3.0  1836         2  \n",
       "5                   85.096                 10.637    1.0  1224         3  \n",
       "6                   91.197                 11.400    2.0  2448         3  \n",
       "7                   92.436                 11.555    3.0  3672         3  \n",
       "8                   90.894                 11.362    1.0  1224         4  \n",
       "9                   89.876                 11.235    2.0  2448         4  "
      ]
     },
     "execution_count": 22,
     "metadata": {},
     "output_type": "execute_result"
    }
   ],
   "source": [
    "model_config.hps_log_df"
   ]
  },
  {
   "cell_type": "code",
   "execution_count": 23,
   "id": "c3e3630d-d11d-4043-9c96-c8b199fa12d7",
   "metadata": {},
   "outputs": [
    {
     "data": {
      "text/plain": [
       "'test'"
      ]
     },
     "execution_count": 23,
     "metadata": {},
     "output_type": "execute_result"
    }
   ],
   "source": [
    "model_config.study_name"
   ]
  },
  {
   "cell_type": "code",
   "execution_count": 24,
   "id": "8674c00b-f724-4d06-bff1-7f476b04c99e",
   "metadata": {},
   "outputs": [
    {
     "data": {
      "text/plain": [
       "'study_dbs/test_roberta-base_English_ConsUncons_07_02_24_23_52.db'"
      ]
     },
     "execution_count": 24,
     "metadata": {},
     "output_type": "execute_result"
    }
   ],
   "source": [
    "model_config.path_study_db"
   ]
  },
  {
   "cell_type": "code",
   "execution_count": 25,
   "id": "e94cf7db-0886-44d9-beb5-6a95fe922d53",
   "metadata": {
    "scrolled": true
   },
   "outputs": [
    {
     "data": {
      "text/html": [
       "<div>\n",
       "<style scoped>\n",
       "    .dataframe tbody tr th:only-of-type {\n",
       "        vertical-align: middle;\n",
       "    }\n",
       "\n",
       "    .dataframe tbody tr th {\n",
       "        vertical-align: top;\n",
       "    }\n",
       "\n",
       "    .dataframe thead th {\n",
       "        text-align: right;\n",
       "    }\n",
       "</style>\n",
       "<table border=\"1\" class=\"dataframe\">\n",
       "  <thead>\n",
       "    <tr style=\"text-align: right;\">\n",
       "      <th></th>\n",
       "      <th>learning_rate</th>\n",
       "      <th>per_device_train_batch_size</th>\n",
       "      <th>num_train_epochs</th>\n",
       "      <th>weight_decay</th>\n",
       "      <th>warmup_ratio</th>\n",
       "    </tr>\n",
       "  </thead>\n",
       "  <tbody>\n",
       "    <tr>\n",
       "      <th>0</th>\n",
       "      <td>0.000062</td>\n",
       "      <td>8</td>\n",
       "      <td>2.0</td>\n",
       "      <td>0.007934</td>\n",
       "      <td>0.030461</td>\n",
       "    </tr>\n",
       "    <tr>\n",
       "      <th>1</th>\n",
       "      <td>0.000003</td>\n",
       "      <td>16</td>\n",
       "      <td>3.0</td>\n",
       "      <td>0.001305</td>\n",
       "      <td>0.010496</td>\n",
       "    </tr>\n",
       "    <tr>\n",
       "      <th>2</th>\n",
       "      <td>0.000078</td>\n",
       "      <td>8</td>\n",
       "      <td>3.0</td>\n",
       "      <td>0.046147</td>\n",
       "      <td>0.062099</td>\n",
       "    </tr>\n",
       "    <tr>\n",
       "      <th>3</th>\n",
       "      <td>0.000017</td>\n",
       "      <td>8</td>\n",
       "      <td>2.0</td>\n",
       "      <td>0.014332</td>\n",
       "      <td>0.002492</td>\n",
       "    </tr>\n",
       "  </tbody>\n",
       "</table>\n",
       "</div>"
      ],
      "text/plain": [
       "   learning_rate  per_device_train_batch_size  num_train_epochs  weight_decay  \\\n",
       "0       0.000062                            8               2.0      0.007934   \n",
       "1       0.000003                           16               3.0      0.001305   \n",
       "2       0.000078                            8               3.0      0.046147   \n",
       "3       0.000017                            8               2.0      0.014332   \n",
       "\n",
       "   warmup_ratio  \n",
       "0      0.030461  \n",
       "1      0.010496  \n",
       "2      0.062099  \n",
       "3      0.002492  "
      ]
     },
     "metadata": {},
     "output_type": "display_data"
    }
   ],
   "source": [
    "# Create a connection to the database\n",
    "conn = sqlite3.connect(os.path.join(path_cwd, model_config.path_study_db))\n",
    "# Create a cursor object\n",
    "cursor = conn.cursor()\n",
    "# Execute the command to list all tables\n",
    "cursor.execute(\"SELECT * FROM trial_params\")\n",
    "\n",
    "# Fetch the results\n",
    "tables = cursor.fetchall()\n",
    "display(util.process_study_db_trial_params(tables))\n",
    "conn.close()"
   ]
  },
  {
   "cell_type": "code",
   "execution_count": 26,
   "id": "e1bbdc82-5f27-49c3-a6f3-11893a0834e7",
   "metadata": {},
   "outputs": [
    {
     "data": {
      "text/plain": [
       "'08_02_24_02_02'"
      ]
     },
     "execution_count": 26,
     "metadata": {},
     "output_type": "execute_result"
    }
   ],
   "source": [
    "model_config.timestamp_final"
   ]
  },
  {
   "cell_type": "code",
   "execution_count": 27,
   "id": "9b551219-37ba-414a-b8db-63834b43b5c8",
   "metadata": {},
   "outputs": [
    {
     "data": {
      "text/plain": [
       "'training_data/roberta-base/final_training_08_02_24_02_02'"
      ]
     },
     "execution_count": 27,
     "metadata": {},
     "output_type": "execute_result"
    }
   ],
   "source": [
    "model_config.path_final_training"
   ]
  },
  {
   "cell_type": "code",
   "execution_count": 28,
   "id": "2a0b9092-f38a-4d02-8865-90b7d29469e4",
   "metadata": {},
   "outputs": [
    {
     "data": {
      "text/plain": [
       "'trained_models/roberta-base_08_02_24_02_02'"
      ]
     },
     "execution_count": 28,
     "metadata": {},
     "output_type": "execute_result"
    }
   ],
   "source": [
    "model_config.path_trained_model"
   ]
  },
  {
   "cell_type": "code",
   "execution_count": 30,
   "id": "d3ef9dd3-b2d4-49d3-8b7c-5aeb2a24eabe",
   "metadata": {},
   "outputs": [
    {
     "data": {
      "text/html": [
       "<div>\n",
       "<style scoped>\n",
       "    .dataframe tbody tr th:only-of-type {\n",
       "        vertical-align: middle;\n",
       "    }\n",
       "\n",
       "    .dataframe tbody tr th {\n",
       "        vertical-align: top;\n",
       "    }\n",
       "\n",
       "    .dataframe thead th {\n",
       "        text-align: right;\n",
       "    }\n",
       "</style>\n",
       "<table border=\"1\" class=\"dataframe\">\n",
       "  <thead>\n",
       "    <tr style=\"text-align: right;\">\n",
       "      <th></th>\n",
       "      <th>loss</th>\n",
       "      <th>learning_rate</th>\n",
       "      <th>eval_loss</th>\n",
       "      <th>eval_accuracy</th>\n",
       "      <th>eval_precision</th>\n",
       "      <th>eval_recall</th>\n",
       "      <th>eval_f1</th>\n",
       "      <th>eval_matthews_correlation</th>\n",
       "      <th>eval_runtime</th>\n",
       "      <th>eval_samples_per_second</th>\n",
       "      <th>eval_steps_per_second</th>\n",
       "      <th>epoch</th>\n",
       "      <th>step</th>\n",
       "    </tr>\n",
       "  </thead>\n",
       "  <tbody>\n",
       "    <tr>\n",
       "      <th>1</th>\n",
       "      <td>0.2949</td>\n",
       "      <td>0.000009</td>\n",
       "      <td>0.216898</td>\n",
       "      <td>0.938343</td>\n",
       "      <td>0.956204</td>\n",
       "      <td>0.929078</td>\n",
       "      <td>0.942446</td>\n",
       "      <td>0.876506</td>\n",
       "      <td>22.3264</td>\n",
       "      <td>92.984</td>\n",
       "      <td>11.645</td>\n",
       "      <td>1.0</td>\n",
       "      <td>1485</td>\n",
       "    </tr>\n",
       "    <tr>\n",
       "      <th>2</th>\n",
       "      <td>0.1360</td>\n",
       "      <td>0.000000</td>\n",
       "      <td>0.294569</td>\n",
       "      <td>0.941715</td>\n",
       "      <td>0.954013</td>\n",
       "      <td>0.937943</td>\n",
       "      <td>0.945910</td>\n",
       "      <td>0.882884</td>\n",
       "      <td>23.7887</td>\n",
       "      <td>87.268</td>\n",
       "      <td>10.930</td>\n",
       "      <td>2.0</td>\n",
       "      <td>2970</td>\n",
       "    </tr>\n",
       "  </tbody>\n",
       "</table>\n",
       "</div>"
      ],
      "text/plain": [
       "     loss  learning_rate  eval_loss  eval_accuracy  eval_precision  \\\n",
       "1  0.2949       0.000009   0.216898       0.938343        0.956204   \n",
       "2  0.1360       0.000000   0.294569       0.941715        0.954013   \n",
       "\n",
       "   eval_recall   eval_f1  eval_matthews_correlation  eval_runtime  \\\n",
       "1     0.929078  0.942446                   0.876506       22.3264   \n",
       "2     0.937943  0.945910                   0.882884       23.7887   \n",
       "\n",
       "   eval_samples_per_second  eval_steps_per_second  epoch  step  \n",
       "1                   92.984                 11.645    1.0  1485  \n",
       "2                   87.268                 10.930    2.0  2970  "
      ]
     },
     "execution_count": 30,
     "metadata": {},
     "output_type": "execute_result"
    },
    {
     "data": {
      "image/png": "[encoded data removed]",
      "text/plain": [
       "<Figure size 640x480 with 1 Axes>"
      ]
     },
     "metadata": {},
     "output_type": "display_data"
    }
   ],
   "source": [
    "if isinstance(model_config.training_log_df, pd.DataFrame):\n",
    "    model_config.training_log_df[[\"loss\", \"eval_loss\", \"eval_matthews_correlation\"]].plot()\n",
    "model_config.training_log_df"
   ]
  },
  {
   "cell_type": "code",
   "execution_count": 31,
   "id": "5d6a4f27-02e1-46de-a24b-c5a5a458d954",
   "metadata": {},
   "outputs": [
    {
     "data": {
      "text/plain": [
       "PredictionOutput(predictions=array([[-3.8574677,  4.0390797],\n",
       "       [-3.634796 ,  3.9195542],\n",
       "       [-3.7367313,  4.0209966],\n",
       "       ...,\n",
       "       [ 4.1241293, -4.5826297],\n",
       "       [ 4.210207 , -4.695159 ],\n",
       "       [ 4.1996202, -4.702412 ]], dtype=float32), label_ids=array([1, 1, 1, ..., 0, 0, 0], dtype=int64), metrics={'test_loss': 0.2945685088634491, 'test_accuracy': 0.9417148362235067, 'test_precision': 0.9540126239855726, 'test_recall': 0.9379432624113475, 'test_f1': 0.94590970049173, 'test_matthews_correlation': 0.8828838927752298, 'test_runtime': 23.2231, 'test_samples_per_second': 89.394, 'test_steps_per_second': 11.196})"
      ]
     },
     "execution_count": 31,
     "metadata": {},
     "output_type": "execute_result"
    }
   ],
   "source": [
    "model_config.predictions"
   ]
  },
  {
   "cell_type": "code",
   "execution_count": 32,
   "id": "1c683bbf-cb51-444f-965c-55a77c497ed1",
   "metadata": {},
   "outputs": [
    {
     "data": {
      "text/plain": [
       "{'accuracy': 0.9417148362235067,\n",
       " 'precision': 0.9379432624113475,\n",
       " 'recall': 0.9540126239855726,\n",
       " 'f1': 0.94590970049173,\n",
       " 'matthews_correlation': 0.8828838927752298}"
      ]
     },
     "execution_count": 32,
     "metadata": {},
     "output_type": "execute_result"
    }
   ],
   "source": [
    "model_config.evaluation_results"
   ]
  },
  {
   "cell_type": "code",
   "execution_count": 36,
   "id": "0dfdcf67-dd41-4cce-8663-ef8abf383f4b",
   "metadata": {},
   "outputs": [
    {
     "data": {
      "text/html": [
       "<div>\n",
       "<style scoped>\n",
       "    .dataframe tbody tr th:only-of-type {\n",
       "        vertical-align: middle;\n",
       "    }\n",
       "\n",
       "    .dataframe tbody tr th {\n",
       "        vertical-align: top;\n",
       "    }\n",
       "\n",
       "    .dataframe thead th {\n",
       "        text-align: right;\n",
       "    }\n",
       "</style>\n",
       "<table border=\"1\" class=\"dataframe\">\n",
       "  <thead>\n",
       "    <tr style=\"text-align: right;\">\n",
       "      <th></th>\n",
       "      <th>Predicted Negative</th>\n",
       "      <th>Predicted Positive</th>\n",
       "    </tr>\n",
       "  </thead>\n",
       "  <tbody>\n",
       "    <tr>\n",
       "      <th>Actual Negative</th>\n",
       "      <td>897</td>\n",
       "      <td>51</td>\n",
       "    </tr>\n",
       "    <tr>\n",
       "      <th>Actual Positive</th>\n",
       "      <td>70</td>\n",
       "      <td>1058</td>\n",
       "    </tr>\n",
       "  </tbody>\n",
       "</table>\n",
       "</div>"
      ],
      "text/plain": [
       "                 Predicted Negative  Predicted Positive\n",
       "Actual Negative                 897                  51\n",
       "Actual Positive                  70                1058"
      ]
     },
     "execution_count": 36,
     "metadata": {},
     "output_type": "execute_result"
    }
   ],
   "source": [
    "pd.DataFrame(model_config.confusion_matrix, columns=['Predicted Negative', 'Predicted Positive'], index=['Actual Negative', 'Actual Positive'])"
   ]
  },
  {
   "cell_type": "code",
   "execution_count": 34,
   "id": "8f086266-a2c0-4a2a-9507-678e3b4527d8",
   "metadata": {},
   "outputs": [
    {
     "data": {
      "text/plain": [
       "{'accuracy': 0.9682080924855492,\n",
       " 'precision': 0.973404255319149,\n",
       " 'recall': 0.9682539682539683,\n",
       " 'f1': 0.9708222811671088,\n",
       " 'matthews_correlation': 0.9359180755812111}"
      ]
     },
     "execution_count": 34,
     "metadata": {},
     "output_type": "execute_result"
    }
   ],
   "source": [
    "model_config.evaluation_results_mv"
   ]
  },
  {
   "cell_type": "code",
   "execution_count": 37,
   "id": "069e772f-7d44-4f17-9608-d7de133c3966",
   "metadata": {},
   "outputs": [
    {
     "data": {
      "text/html": [
       "<div>\n",
       "<style scoped>\n",
       "    .dataframe tbody tr th:only-of-type {\n",
       "        vertical-align: middle;\n",
       "    }\n",
       "\n",
       "    .dataframe tbody tr th {\n",
       "        vertical-align: top;\n",
       "    }\n",
       "\n",
       "    .dataframe thead th {\n",
       "        text-align: right;\n",
       "    }\n",
       "</style>\n",
       "<table border=\"1\" class=\"dataframe\">\n",
       "  <thead>\n",
       "    <tr style=\"text-align: right;\">\n",
       "      <th></th>\n",
       "      <th>Predicted Negative</th>\n",
       "      <th>Predicted Positive</th>\n",
       "    </tr>\n",
       "  </thead>\n",
       "  <tbody>\n",
       "    <tr>\n",
       "      <th>Actual Negative</th>\n",
       "      <td>152</td>\n",
       "      <td>6</td>\n",
       "    </tr>\n",
       "    <tr>\n",
       "      <th>Actual Positive</th>\n",
       "      <td>5</td>\n",
       "      <td>183</td>\n",
       "    </tr>\n",
       "  </tbody>\n",
       "</table>\n",
       "</div>"
      ],
      "text/plain": [
       "                 Predicted Negative  Predicted Positive\n",
       "Actual Negative                 152                   6\n",
       "Actual Positive                   5                 183"
      ]
     },
     "execution_count": 37,
     "metadata": {},
     "output_type": "execute_result"
    }
   ],
   "source": [
    "pd.DataFrame(model_config.confusion_matrix_mv, columns=['Predicted Negative', 'Predicted Positive'], index=['Actual Negative', 'Actual Positive'])"
   ]
  },
  {
   "cell_type": "code",
   "execution_count": 38,
   "id": "31220ddf-35e9-4dd0-a111-dd23efaf2f49",
   "metadata": {},
   "outputs": [
    {
     "data": {
      "text/plain": [
       "array([ 897,   51,   70, 1058], dtype=int64)"
      ]
     },
     "execution_count": 38,
     "metadata": {},
     "output_type": "execute_result"
    }
   ],
   "source": [
    "model_config.confusion_matrix.ravel()"
   ]
  }
 ],
 "metadata": {
  "kernelspec": {
   "display_name": "venv_ml_bert",
   "language": "python",
   "name": "venv_ml_bert"
  },
  "language_info": {
   "codemirror_mode": {
    "name": "ipython",
    "version": 3
   },
   "file_extension": ".py",
   "mimetype": "text/x-python",
   "name": "python",
   "nbconvert_exporter": "python",
   "pygments_lexer": "ipython3",
   "version": "3.9.5"
  }
 },
 "nbformat": 4,
 "nbformat_minor": 5
}
