{
 "cells": [
  {
   "cell_type": "markdown",
   "id": "2af0a675-4eb9-443b-9985-742047be7116",
   "metadata": {},
   "source": [
    "# Import Packages"
   ]
  },
  {
   "cell_type": "code",
   "execution_count": 1,
   "id": "3c9e84bc-f654-4502-9970-fe5b4cc82624",
   "metadata": {},
   "outputs": [],
   "source": [
    "import os\n",
    "import pandas as pd\n",
    "import numpy as np\n",
    "import pickle\n",
    "from datetime import datetime\n",
    "import matplotlib.pyplot as plt\n",
    "\n",
    "import utility.ModelConfig as mc\n"
   ]
  },
  {
   "cell_type": "markdown",
   "id": "c64f80f5-566e-4ccc-af92-60e6834ee1d2",
   "metadata": {},
   "source": [
    "# Load ModelConfig"
   ]
  },
  {
   "cell_type": "code",
   "execution_count": 79,
   "id": "9641e0a8-2985-430a-a41a-d75133f729a2",
   "metadata": {},
   "outputs": [],
   "source": [
    "\"\"\"\n",
    "path to local\n",
    "\"\"\"\n",
    "path_cwd = os.getcwd()\n",
    "\n",
    "\"\"\"\n",
    "name of modelconfig file\n",
    "\"\"\"\n",
    "_name_config_file = \"ModelConfig_roberta-base_FinStmts_ConsUncons_Sliding_English_SeqClass_04_02_24_00_47.pkl\"\n",
    "\n",
    "\"\"\"\n",
    "path to file with modelconfig\n",
    "\"\"\"\n",
    "path_file_modelconfig = os.path.join(\"modelconfigs\", _name_config_file)"
   ]
  },
  {
   "cell_type": "code",
   "execution_count": 80,
   "id": "90dc9487-7935-4a7f-afaa-b2a423e5c437",
   "metadata": {},
   "outputs": [],
   "source": [
    "model_config = None\n",
    "with open(os.path.join(path_cwd, path_file_modelconfig), \"rb\") as f:\n",
    "    model_config = pickle.load(f)"
   ]
  },
  {
   "cell_type": "markdown",
   "id": "4a4086ea-7db8-4763-9492-e3b4da5dc842",
   "metadata": {},
   "source": [
    "# ModelConfig"
   ]
  },
  {
   "cell_type": "code",
   "execution_count": 81,
   "id": "03c7771f-bc68-4143-9d41-6a1362d8b14b",
   "metadata": {},
   "outputs": [
    {
     "data": {
      "text/plain": [
       "'roberta-base'"
      ]
     },
     "execution_count": 81,
     "metadata": {},
     "output_type": "execute_result"
    }
   ],
   "source": [
    "model_config.base_model"
   ]
  },
  {
   "cell_type": "code",
   "execution_count": 82,
   "id": "b7a79fe2-9db6-4ec0-8562-c0f9557a3a52",
   "metadata": {},
   "outputs": [
    {
     "data": {
      "text/plain": [
       "'04_02_24_00_47'"
      ]
     },
     "execution_count": 82,
     "metadata": {},
     "output_type": "execute_result"
    }
   ],
   "source": [
    "model_config.timestamp_initial"
   ]
  },
  {
   "cell_type": "code",
   "execution_count": 83,
   "id": "9c3dd9f7-b194-4bfa-a9e8-1636d554b64e",
   "metadata": {},
   "outputs": [
    {
     "data": {
      "text/plain": [
       "'Binary Classification'"
      ]
     },
     "execution_count": 83,
     "metadata": {},
     "output_type": "execute_result"
    }
   ],
   "source": [
    "model_config.task"
   ]
  },
  {
   "cell_type": "code",
   "execution_count": 84,
   "id": "a9cf8eb2-4f0a-427d-b66c-abe516a1a038",
   "metadata": {},
   "outputs": [
    {
     "data": {
      "text/plain": [
       "'mcc'"
      ]
     },
     "execution_count": 84,
     "metadata": {},
     "output_type": "execute_result"
    }
   ],
   "source": [
    "model_config.loss_fct"
   ]
  },
  {
   "cell_type": "code",
   "execution_count": 85,
   "id": "415c08bf-2ae3-4edb-b54c-ee1f17a2daeb",
   "metadata": {},
   "outputs": [
    {
     "data": {
      "text/plain": [
       "True"
      ]
     },
     "execution_count": 85,
     "metadata": {},
     "output_type": "execute_result"
    }
   ],
   "source": [
    "model_config.from_hub"
   ]
  },
  {
   "cell_type": "code",
   "execution_count": 86,
   "id": "064a6379-e14f-4248-be4b-ed2b31b185f5",
   "metadata": {},
   "outputs": [
    {
     "data": {
      "text/plain": [
       "'HalaJada/FinStmts_ConsUncons_Sliding_English_SeqClass'"
      ]
     },
     "execution_count": 86,
     "metadata": {},
     "output_type": "execute_result"
    }
   ],
   "source": [
    "model_config.dataset_name_hub"
   ]
  },
  {
   "cell_type": "code",
   "execution_count": 87,
   "id": "81e1d3e8-d391-4290-b2ca-7779f3e7de6f",
   "metadata": {},
   "outputs": [
    {
     "data": {
      "text/plain": [
       "'French_ConsUncons'"
      ]
     },
     "execution_count": 87,
     "metadata": {},
     "output_type": "execute_result"
    }
   ],
   "source": [
    "model_config.dataset_name_local"
   ]
  },
  {
   "cell_type": "code",
   "execution_count": 88,
   "id": "73b9846b-f55b-46fd-bb87-b9d87ffff013",
   "metadata": {},
   "outputs": [
    {
     "data": {
      "text/plain": [
       "'datasets/French_ConsUncons'"
      ]
     },
     "execution_count": 88,
     "metadata": {},
     "output_type": "execute_result"
    }
   ],
   "source": [
    "model_config.path_dataset_local"
   ]
  },
  {
   "cell_type": "code",
   "execution_count": 89,
   "id": "ba200f43-72b3-461b-ad76-bd35ea66966b",
   "metadata": {},
   "outputs": [
    {
     "data": {
      "text/plain": [
       "2"
      ]
     },
     "execution_count": 89,
     "metadata": {},
     "output_type": "execute_result"
    }
   ],
   "source": [
    "model_config.num_labels"
   ]
  },
  {
   "cell_type": "code",
   "execution_count": 90,
   "id": "fa927bf9-c83b-48db-ac44-8d0e3eb08358",
   "metadata": {},
   "outputs": [
    {
     "data": {
      "text/plain": [
       "'rev_prop'"
      ]
     },
     "execution_count": 90,
     "metadata": {},
     "output_type": "execute_result"
    }
   ],
   "source": [
    "model_config.weight_scheme"
   ]
  },
  {
   "cell_type": "code",
   "execution_count": 91,
   "id": "a42482f8-54df-468f-96dc-85ef2fb3ada8",
   "metadata": {},
   "outputs": [
    {
     "data": {
      "text/plain": [
       "[2.170212765957447, 1.8545454545454547]"
      ]
     },
     "execution_count": 91,
     "metadata": {},
     "output_type": "execute_result"
    }
   ],
   "source": [
    "model_config.class_weights"
   ]
  },
  {
   "cell_type": "code",
   "execution_count": 92,
   "id": "df90e1b0-6ecd-41dc-b867-f9e961664e5d",
   "metadata": {},
   "outputs": [
    {
     "data": {
      "text/plain": [
       "['accuracy', 'precision', 'recall', 'f1', 'matthews_correlation']"
      ]
     },
     "execution_count": 92,
     "metadata": {},
     "output_type": "execute_result"
    }
   ],
   "source": [
    "model_config.eval_metrics"
   ]
  },
  {
   "cell_type": "code",
   "execution_count": 93,
   "id": "64d33f31-1188-4270-8955-f37341322aff",
   "metadata": {},
   "outputs": [
    {
     "data": {
      "text/plain": [
       "'eval_matthews_correlation'"
      ]
     },
     "execution_count": 93,
     "metadata": {},
     "output_type": "execute_result"
    }
   ],
   "source": [
    "model_config.metric_best_model"
   ]
  },
  {
   "cell_type": "code",
   "execution_count": 94,
   "id": "81925ed0-42c4-4671-b73e-57b9cc372d21",
   "metadata": {},
   "outputs": [
    {
     "data": {
      "text/plain": [
       "100"
      ]
     },
     "execution_count": 94,
     "metadata": {},
     "output_type": "execute_result"
    }
   ],
   "source": [
    "model_config.no_trials"
   ]
  },
  {
   "cell_type": "code",
   "execution_count": 95,
   "id": "d463d9ee-2049-405b-b776-ca7afdca26bf",
   "metadata": {},
   "outputs": [
    {
     "data": {
      "text/plain": [
       "'unfrozen'"
      ]
     },
     "execution_count": 95,
     "metadata": {},
     "output_type": "execute_result"
    }
   ],
   "source": [
    "model_config.frozen"
   ]
  },
  {
   "cell_type": "code",
   "execution_count": 96,
   "id": "5a033df5-bc1c-48af-ab6e-5e6fb4dc1992",
   "metadata": {},
   "outputs": [
    {
     "data": {
      "text/plain": [
       "BestRun(run_id='56', objective=0.8400723963582692, hyperparameters={'learning_rate': 6.149828529189606e-06, 'per_device_train_batch_size': 16, 'num_train_epochs': 7, 'weight_decay': 0.0686165662831141, 'warmup_ratio': 0.020986014650276438}, run_summary=None)"
      ]
     },
     "execution_count": 96,
     "metadata": {},
     "output_type": "execute_result"
    }
   ],
   "source": [
    "model_config.best_run"
   ]
  },
  {
   "cell_type": "code",
   "execution_count": 97,
   "id": "56c4f53b-d2d4-445e-a111-47fd9e8aeae4",
   "metadata": {},
   "outputs": [
    {
     "data": {
      "text/plain": [
       "'training_data/roberta-base/initial_training_04_02_24_00_47'"
      ]
     },
     "execution_count": 97,
     "metadata": {},
     "output_type": "execute_result"
    }
   ],
   "source": [
    "model_config.path_initial_training"
   ]
  },
  {
   "cell_type": "code",
   "execution_count": 98,
   "id": "64c5b1d3-9b04-461a-b8d1-90d0ba403130",
   "metadata": {},
   "outputs": [
    {
     "data": {
      "text/plain": [
       "True"
      ]
     },
     "execution_count": 98,
     "metadata": {},
     "output_type": "execute_result"
    }
   ],
   "source": [
    "model_config.flag_mv"
   ]
  },
  {
   "cell_type": "code",
   "execution_count": 99,
   "id": "e1bbdc82-5f27-49c3-a6f3-11893a0834e7",
   "metadata": {},
   "outputs": [],
   "source": [
    "model_config.timestamp_final"
   ]
  },
  {
   "cell_type": "code",
   "execution_count": 100,
   "id": "9b551219-37ba-414a-b8db-63834b43b5c8",
   "metadata": {},
   "outputs": [],
   "source": [
    "model_config.path_final_training"
   ]
  },
  {
   "cell_type": "code",
   "execution_count": 101,
   "id": "2a0b9092-f38a-4d02-8865-90b7d29469e4",
   "metadata": {},
   "outputs": [],
   "source": [
    "model_config.path_trained_model"
   ]
  },
  {
   "cell_type": "code",
   "execution_count": 102,
   "id": "d3ef9dd3-b2d4-49d3-8b7c-5aeb2a24eabe",
   "metadata": {},
   "outputs": [
    {
     "ename": "TypeError",
     "evalue": "'NoneType' object is not subscriptable",
     "output_type": "error",
     "traceback": [
      "\u001b[1;31m---------------------------------------------------------------------------\u001b[0m",
      "\u001b[1;31mTypeError\u001b[0m                                 Traceback (most recent call last)",
      "Cell \u001b[1;32mIn[102], line 1\u001b[0m\n\u001b[1;32m----> 1\u001b[0m \u001b[43mmodel_config\u001b[49m\u001b[38;5;241;43m.\u001b[39;49m\u001b[43mtraining_log_df\u001b[49m\u001b[43m[\u001b[49m\u001b[43m[\u001b[49m\u001b[38;5;124;43m\"\u001b[39;49m\u001b[38;5;124;43mloss\u001b[39;49m\u001b[38;5;124;43m\"\u001b[39;49m\u001b[43m,\u001b[49m\u001b[43m \u001b[49m\u001b[38;5;124;43m\"\u001b[39;49m\u001b[38;5;124;43meval_loss\u001b[39;49m\u001b[38;5;124;43m\"\u001b[39;49m\u001b[43m,\u001b[49m\u001b[43m \u001b[49m\u001b[38;5;124;43m\"\u001b[39;49m\u001b[38;5;124;43meval_matthews_correlation\u001b[39;49m\u001b[38;5;124;43m\"\u001b[39;49m\u001b[43m]\u001b[49m\u001b[43m]\u001b[49m\u001b[38;5;241m.\u001b[39mplot()\n\u001b[0;32m      2\u001b[0m model_config\u001b[38;5;241m.\u001b[39mtraining_log_df\n",
      "\u001b[1;31mTypeError\u001b[0m: 'NoneType' object is not subscriptable"
     ]
    }
   ],
   "source": [
    "model_config.training_log_df[[\"loss\", \"eval_loss\", \"eval_matthews_correlation\"]].plot()\n",
    "model_config.training_log_df"
   ]
  },
  {
   "cell_type": "code",
   "execution_count": 103,
   "id": "5d6a4f27-02e1-46de-a24b-c5a5a458d954",
   "metadata": {},
   "outputs": [],
   "source": [
    "model_config.predictions"
   ]
  },
  {
   "cell_type": "code",
   "execution_count": 104,
   "id": "1c683bbf-cb51-444f-965c-55a77c497ed1",
   "metadata": {},
   "outputs": [],
   "source": [
    "model_config.evaluation_results"
   ]
  },
  {
   "cell_type": "code",
   "execution_count": 105,
   "id": "0dfdcf67-dd41-4cce-8663-ef8abf383f4b",
   "metadata": {},
   "outputs": [],
   "source": [
    "model_config.confusion_matrix"
   ]
  },
  {
   "cell_type": "code",
   "execution_count": 106,
   "id": "8f086266-a2c0-4a2a-9507-678e3b4527d8",
   "metadata": {},
   "outputs": [],
   "source": [
    "model_config.evaluation_results_mv"
   ]
  },
  {
   "cell_type": "code",
   "execution_count": 78,
   "id": "069e772f-7d44-4f17-9608-d7de133c3966",
   "metadata": {},
   "outputs": [],
   "source": [
    "model_config.confusion_matrix_mv"
   ]
  },
  {
   "cell_type": "code",
   "execution_count": null,
   "id": "c599c33f-d3ca-47fd-8acc-4f2f69745fdf",
   "metadata": {},
   "outputs": [],
   "source": []
  }
 ],
 "metadata": {
  "kernelspec": {
   "display_name": "venv_ml_bert",
   "language": "python",
   "name": "venv_ml_bert"
  },
  "language_info": {
   "codemirror_mode": {
    "name": "ipython",
    "version": 3
   },
   "file_extension": ".py",
   "mimetype": "text/x-python",
   "name": "python",
   "nbconvert_exporter": "python",
   "pygments_lexer": "ipython3",
   "version": "3.9.5"
  }
 },
 "nbformat": 4,
 "nbformat_minor": 5
}
