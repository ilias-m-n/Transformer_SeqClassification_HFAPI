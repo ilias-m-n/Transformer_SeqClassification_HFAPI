{
 "cells": [
  {
   "cell_type": "markdown",
   "id": "2af0a675-4eb9-443b-9985-742047be7116",
   "metadata": {},
   "source": [
    "# Import Packages"
   ]
  },
  {
   "cell_type": "code",
   "execution_count": 84,
   "id": "3c9e84bc-f654-4502-9970-fe5b4cc82624",
   "metadata": {},
   "outputs": [
    {
     "name": "stdout",
     "output_type": "stream",
     "text": [
      "The autoreload extension is already loaded. To reload it, use:\n",
      "  %reload_ext autoreload\n"
     ]
    }
   ],
   "source": [
    "import os\n",
    "import pandas as pd\n",
    "import numpy as np\n",
    "import pickle\n",
    "from datetime import datetime\n",
    "import matplotlib.pyplot as plt\n",
    "from transformers import TrainingArguments\n",
    "\n",
    "import utility.ModelConfig as mc\n",
    "\n",
    "import sqlite3\n",
    "\n",
    "import utility.utility as util\n",
    "\n",
    "# resets import once changes have been applied\n",
    "%load_ext autoreload\n",
    "%autoreload 2"
   ]
  },
  {
   "cell_type": "markdown",
   "id": "c64f80f5-566e-4ccc-af92-60e6834ee1d2",
   "metadata": {},
   "source": [
    "# Load ModelConfig"
   ]
  },
  {
   "cell_type": "code",
   "execution_count": 85,
   "id": "9641e0a8-2985-430a-a41a-d75133f729a2",
   "metadata": {},
   "outputs": [],
   "source": [
    "\"\"\"\n",
    "path to local\n",
    "\"\"\"\n",
    "path_cwd = os.getcwd()\n",
    "\n",
    "\"\"\"\n",
    "name of modelconfig file\n",
    "\"\"\"\n",
    "_name_config_file = \"ModelConfig_roberta-base_HalaJada_FinStmts_ConsUncons_Sliding_English_SeqClass_14_02_24_01_07.pkl\"\n",
    "\n",
    "\"\"\"\n",
    "path to file with modelconfig\n",
    "\"\"\"\n",
    "path_file_modelconfig = os.path.join(\"modelconfigs\", _name_config_file)"
   ]
  },
  {
   "cell_type": "code",
   "execution_count": 86,
   "id": "90dc9487-7935-4a7f-afaa-b2a423e5c437",
   "metadata": {},
   "outputs": [],
   "source": [
    "model_config = None\n",
    "with open(os.path.join(path_cwd, path_file_modelconfig), \"rb\") as f:\n",
    "    model_config = pickle.load(f)"
   ]
  },
  {
   "cell_type": "markdown",
   "id": "4a4086ea-7db8-4763-9492-e3b4da5dc842",
   "metadata": {},
   "source": [
    "# Read each attribute of an instance of ModelConfig"
   ]
  },
  {
   "cell_type": "code",
   "execution_count": 87,
   "id": "03c7771f-bc68-4143-9d41-6a1362d8b14b",
   "metadata": {},
   "outputs": [
    {
     "data": {
      "text/plain": [
       "'roberta-base'"
      ]
     },
     "execution_count": 87,
     "metadata": {},
     "output_type": "execute_result"
    }
   ],
   "source": [
    "model_config.base_model"
   ]
  },
  {
   "cell_type": "code",
   "execution_count": 88,
   "id": "b7a79fe2-9db6-4ec0-8562-c0f9557a3a52",
   "metadata": {},
   "outputs": [
    {
     "data": {
      "text/plain": [
       "'14_02_24_01_07'"
      ]
     },
     "execution_count": 88,
     "metadata": {},
     "output_type": "execute_result"
    }
   ],
   "source": [
    "model_config.timestamp_initial"
   ]
  },
  {
   "cell_type": "code",
   "execution_count": 89,
   "id": "cc3e1f39-7de1-467c-8e7c-6ef0b6988129",
   "metadata": {},
   "outputs": [
    {
     "data": {
      "text/plain": [
       "False"
      ]
     },
     "execution_count": 89,
     "metadata": {},
     "output_type": "execute_result"
    }
   ],
   "source": [
    "model_config.reset_model_head"
   ]
  },
  {
   "cell_type": "code",
   "execution_count": 90,
   "id": "9c3dd9f7-b194-4bfa-a9e8-1636d554b64e",
   "metadata": {},
   "outputs": [
    {
     "data": {
      "text/plain": [
       "'Binary Classification _ with study object and hps log history'"
      ]
     },
     "execution_count": 90,
     "metadata": {},
     "output_type": "execute_result"
    }
   ],
   "source": [
    "model_config.task"
   ]
  },
  {
   "cell_type": "code",
   "execution_count": 91,
   "id": "a9cf8eb2-4f0a-427d-b66c-abe516a1a038",
   "metadata": {},
   "outputs": [
    {
     "data": {
      "text/plain": [
       "'ce'"
      ]
     },
     "execution_count": 91,
     "metadata": {},
     "output_type": "execute_result"
    }
   ],
   "source": [
    "model_config.loss_fct"
   ]
  },
  {
   "cell_type": "code",
   "execution_count": 92,
   "id": "415c08bf-2ae3-4edb-b54c-ee1f17a2daeb",
   "metadata": {},
   "outputs": [
    {
     "data": {
      "text/plain": [
       "True"
      ]
     },
     "execution_count": 92,
     "metadata": {},
     "output_type": "execute_result"
    }
   ],
   "source": [
    "model_config.from_hub"
   ]
  },
  {
   "cell_type": "code",
   "execution_count": 93,
   "id": "064a6379-e14f-4248-be4b-ed2b31b185f5",
   "metadata": {},
   "outputs": [
    {
     "data": {
      "text/plain": [
       "'HalaJada/FinStmts_ConsUncons_Sliding_English_SeqClass'"
      ]
     },
     "execution_count": 93,
     "metadata": {},
     "output_type": "execute_result"
    }
   ],
   "source": [
    "model_config.dataset_name_hub"
   ]
  },
  {
   "cell_type": "code",
   "execution_count": 94,
   "id": "81e1d3e8-d391-4290-b2ca-7779f3e7de6f",
   "metadata": {},
   "outputs": [
    {
     "data": {
      "text/plain": [
       "''"
      ]
     },
     "execution_count": 94,
     "metadata": {},
     "output_type": "execute_result"
    }
   ],
   "source": [
    "model_config.dataset_name_local"
   ]
  },
  {
   "cell_type": "code",
   "execution_count": 95,
   "id": "73b9846b-f55b-46fd-bb87-b9d87ffff013",
   "metadata": {},
   "outputs": [
    {
     "data": {
      "text/plain": [
       "'datasets/'"
      ]
     },
     "execution_count": 95,
     "metadata": {},
     "output_type": "execute_result"
    }
   ],
   "source": [
    "model_config.path_dataset_local"
   ]
  },
  {
   "cell_type": "code",
   "execution_count": 96,
   "id": "ba200f43-72b3-461b-ad76-bd35ea66966b",
   "metadata": {},
   "outputs": [
    {
     "data": {
      "text/plain": [
       "2"
      ]
     },
     "execution_count": 96,
     "metadata": {},
     "output_type": "execute_result"
    }
   ],
   "source": [
    "model_config.num_labels"
   ]
  },
  {
   "cell_type": "code",
   "execution_count": 97,
   "id": "fa927bf9-c83b-48db-ac44-8d0e3eb08358",
   "metadata": {},
   "outputs": [
    {
     "data": {
      "text/plain": [
       "'rev_prop'"
      ]
     },
     "execution_count": 97,
     "metadata": {},
     "output_type": "execute_result"
    }
   ],
   "source": [
    "model_config.weight_scheme"
   ]
  },
  {
   "cell_type": "code",
   "execution_count": 98,
   "id": "a42482f8-54df-468f-96dc-85ef2fb3ada8",
   "metadata": {},
   "outputs": [
    {
     "data": {
      "text/plain": [
       "[2.170212765957447, 1.8545454545454547]"
      ]
     },
     "execution_count": 98,
     "metadata": {},
     "output_type": "execute_result"
    }
   ],
   "source": [
    "model_config.class_weights"
   ]
  },
  {
   "cell_type": "code",
   "execution_count": 99,
   "id": "df90e1b0-6ecd-41dc-b867-f9e961664e5d",
   "metadata": {},
   "outputs": [
    {
     "data": {
      "text/plain": [
       "['accuracy', 'precision', 'recall', 'f1', 'matthews_correlation']"
      ]
     },
     "execution_count": 99,
     "metadata": {},
     "output_type": "execute_result"
    }
   ],
   "source": [
    "model_config.eval_metrics"
   ]
  },
  {
   "cell_type": "code",
   "execution_count": 100,
   "id": "64d33f31-1188-4270-8955-f37341322aff",
   "metadata": {},
   "outputs": [
    {
     "data": {
      "text/plain": [
       "'eval_matthews_correlation'"
      ]
     },
     "execution_count": 100,
     "metadata": {},
     "output_type": "execute_result"
    }
   ],
   "source": [
    "model_config.metric_best_model"
   ]
  },
  {
   "cell_type": "code",
   "execution_count": 101,
   "id": "d4440d2e-4486-46b0-8ade-a4ee235b1fce",
   "metadata": {},
   "outputs": [
    {
     "data": {
      "text/plain": [
       "'maximize'"
      ]
     },
     "execution_count": 101,
     "metadata": {},
     "output_type": "execute_result"
    }
   ],
   "source": [
    "model_config.metric_direction"
   ]
  },
  {
   "cell_type": "code",
   "execution_count": 102,
   "id": "81925ed0-42c4-4671-b73e-57b9cc372d21",
   "metadata": {},
   "outputs": [
    {
     "data": {
      "text/plain": [
       "1"
      ]
     },
     "execution_count": 102,
     "metadata": {},
     "output_type": "execute_result"
    }
   ],
   "source": [
    "model_config.num_trials"
   ]
  },
  {
   "cell_type": "code",
   "execution_count": 103,
   "id": "d463d9ee-2049-405b-b776-ca7afdca26bf",
   "metadata": {},
   "outputs": [
    {
     "data": {
      "text/plain": [
       "'unfrozen'"
      ]
     },
     "execution_count": 103,
     "metadata": {},
     "output_type": "execute_result"
    }
   ],
   "source": [
    "model_config.frozen"
   ]
  },
  {
   "cell_type": "code",
   "execution_count": 104,
   "id": "5a033df5-bc1c-48af-ab6e-5e6fb4dc1992",
   "metadata": {},
   "outputs": [
    {
     "data": {
      "text/plain": [
       "BestRun(run_id='0', objective=0.8478319534691948, hyperparameters={'learning_rate': 7.619126050563358e-06, 'per_device_train_batch_size': 16, 'num_train_epochs': 3, 'weight_decay': 0.07369910091419253, 'warmup_ratio': 0.08071147902065257}, run_summary=None)"
      ]
     },
     "execution_count": 104,
     "metadata": {},
     "output_type": "execute_result"
    }
   ],
   "source": [
    "model_config.best_run"
   ]
  },
  {
   "cell_type": "code",
   "execution_count": 105,
   "id": "56c4f53b-d2d4-445e-a111-47fd9e8aeae4",
   "metadata": {},
   "outputs": [
    {
     "data": {
      "text/plain": [
       "'training_data/roberta-base/initial_training_14_02_24_01_07'"
      ]
     },
     "execution_count": 105,
     "metadata": {},
     "output_type": "execute_result"
    }
   ],
   "source": [
    "model_config.path_initial_training"
   ]
  },
  {
   "cell_type": "code",
   "execution_count": 106,
   "id": "64c5b1d3-9b04-461a-b8d1-90d0ba403130",
   "metadata": {},
   "outputs": [],
   "source": [
    "model_config.flag_mv"
   ]
  },
  {
   "cell_type": "code",
   "execution_count": 107,
   "id": "f5091437-37d3-48ff-8a3b-c4a0c85ee5e3",
   "metadata": {},
   "outputs": [
    {
     "data": {
      "text/html": [
       "<div>\n",
       "<style scoped>\n",
       "    .dataframe tbody tr th:only-of-type {\n",
       "        vertical-align: middle;\n",
       "    }\n",
       "\n",
       "    .dataframe tbody tr th {\n",
       "        vertical-align: top;\n",
       "    }\n",
       "\n",
       "    .dataframe thead th {\n",
       "        text-align: right;\n",
       "    }\n",
       "</style>\n",
       "<table border=\"1\" class=\"dataframe\">\n",
       "  <thead>\n",
       "    <tr style=\"text-align: right;\">\n",
       "      <th></th>\n",
       "      <th>loss</th>\n",
       "      <th>learning_rate</th>\n",
       "      <th>eval_loss</th>\n",
       "      <th>eval_accuracy</th>\n",
       "      <th>eval_precision</th>\n",
       "      <th>eval_recall</th>\n",
       "      <th>eval_f1</th>\n",
       "      <th>eval_matthews_correlation</th>\n",
       "      <th>eval_runtime</th>\n",
       "      <th>eval_samples_per_second</th>\n",
       "      <th>eval_steps_per_second</th>\n",
       "      <th>epoch</th>\n",
       "      <th>step</th>\n",
       "      <th>trial_no</th>\n",
       "    </tr>\n",
       "  </thead>\n",
       "  <tbody>\n",
       "    <tr>\n",
       "      <th>0</th>\n",
       "      <td>0.3569</td>\n",
       "      <td>0.000006</td>\n",
       "      <td>0.289654</td>\n",
       "      <td>0.905172</td>\n",
       "      <td>0.928571</td>\n",
       "      <td>0.894180</td>\n",
       "      <td>0.911051</td>\n",
       "      <td>0.810251</td>\n",
       "      <td>22.4851</td>\n",
       "      <td>92.861</td>\n",
       "      <td>11.608</td>\n",
       "      <td>1.0</td>\n",
       "      <td>612</td>\n",
       "      <td>0</td>\n",
       "    </tr>\n",
       "    <tr>\n",
       "      <th>1</th>\n",
       "      <td>0.1640</td>\n",
       "      <td>0.000003</td>\n",
       "      <td>0.272358</td>\n",
       "      <td>0.922414</td>\n",
       "      <td>0.911864</td>\n",
       "      <td>0.948854</td>\n",
       "      <td>0.929991</td>\n",
       "      <td>0.843904</td>\n",
       "      <td>22.4126</td>\n",
       "      <td>93.162</td>\n",
       "      <td>11.645</td>\n",
       "      <td>2.0</td>\n",
       "      <td>1224</td>\n",
       "      <td>0</td>\n",
       "    </tr>\n",
       "    <tr>\n",
       "      <th>2</th>\n",
       "      <td>0.1060</td>\n",
       "      <td>0.000000</td>\n",
       "      <td>0.330242</td>\n",
       "      <td>0.924330</td>\n",
       "      <td>0.912860</td>\n",
       "      <td>0.951499</td>\n",
       "      <td>0.931779</td>\n",
       "      <td>0.847832</td>\n",
       "      <td>22.3287</td>\n",
       "      <td>93.512</td>\n",
       "      <td>11.689</td>\n",
       "      <td>3.0</td>\n",
       "      <td>1836</td>\n",
       "      <td>0</td>\n",
       "    </tr>\n",
       "  </tbody>\n",
       "</table>\n",
       "</div>"
      ],
      "text/plain": [
       "     loss  learning_rate  eval_loss  eval_accuracy  eval_precision  \\\n",
       "0  0.3569       0.000006   0.289654       0.905172        0.928571   \n",
       "1  0.1640       0.000003   0.272358       0.922414        0.911864   \n",
       "2  0.1060       0.000000   0.330242       0.924330        0.912860   \n",
       "\n",
       "   eval_recall   eval_f1  eval_matthews_correlation  eval_runtime  \\\n",
       "0     0.894180  0.911051                   0.810251       22.4851   \n",
       "1     0.948854  0.929991                   0.843904       22.4126   \n",
       "2     0.951499  0.931779                   0.847832       22.3287   \n",
       "\n",
       "   eval_samples_per_second  eval_steps_per_second  epoch  step  trial_no  \n",
       "0                   92.861                 11.608    1.0   612         0  \n",
       "1                   93.162                 11.645    2.0  1224         0  \n",
       "2                   93.512                 11.689    3.0  1836         0  "
      ]
     },
     "execution_count": 107,
     "metadata": {},
     "output_type": "execute_result"
    }
   ],
   "source": [
    "model_config.hps_log_df"
   ]
  },
  {
   "cell_type": "code",
   "execution_count": 108,
   "id": "c3e3630d-d11d-4043-9c96-c8b199fa12d7",
   "metadata": {},
   "outputs": [
    {
     "data": {
      "text/plain": [
       "'test'"
      ]
     },
     "execution_count": 108,
     "metadata": {},
     "output_type": "execute_result"
    }
   ],
   "source": [
    "model_config.study_name"
   ]
  },
  {
   "cell_type": "code",
   "execution_count": 109,
   "id": "8674c00b-f724-4d06-bff1-7f476b04c99e",
   "metadata": {},
   "outputs": [
    {
     "data": {
      "text/plain": [
       "'study_dbs/test_roberta-base_HalaJada_FinStmts_ConsUncons_Sliding_English_SeqClass_14_02_24_01_07.db'"
      ]
     },
     "execution_count": 109,
     "metadata": {},
     "output_type": "execute_result"
    }
   ],
   "source": [
    "model_config.path_study_db"
   ]
  },
  {
   "cell_type": "code",
   "execution_count": 110,
   "id": "e94cf7db-0886-44d9-beb5-6a95fe922d53",
   "metadata": {
    "scrolled": true
   },
   "outputs": [
    {
     "data": {
      "text/html": [
       "<div>\n",
       "<style scoped>\n",
       "    .dataframe tbody tr th:only-of-type {\n",
       "        vertical-align: middle;\n",
       "    }\n",
       "\n",
       "    .dataframe tbody tr th {\n",
       "        vertical-align: top;\n",
       "    }\n",
       "\n",
       "    .dataframe thead th {\n",
       "        text-align: right;\n",
       "    }\n",
       "</style>\n",
       "<table border=\"1\" class=\"dataframe\">\n",
       "  <thead>\n",
       "    <tr style=\"text-align: right;\">\n",
       "      <th></th>\n",
       "      <th>learning_rate</th>\n",
       "      <th>per_device_train_batch_size</th>\n",
       "      <th>num_train_epochs</th>\n",
       "      <th>weight_decay</th>\n",
       "      <th>warmup_ratio</th>\n",
       "    </tr>\n",
       "  </thead>\n",
       "  <tbody>\n",
       "    <tr>\n",
       "      <th>0</th>\n",
       "      <td>0.000008</td>\n",
       "      <td>16</td>\n",
       "      <td>3.0</td>\n",
       "      <td>0.073699</td>\n",
       "      <td>0.080711</td>\n",
       "    </tr>\n",
       "  </tbody>\n",
       "</table>\n",
       "</div>"
      ],
      "text/plain": [
       "   learning_rate  per_device_train_batch_size  num_train_epochs  weight_decay  \\\n",
       "0       0.000008                           16               3.0      0.073699   \n",
       "\n",
       "   warmup_ratio  \n",
       "0      0.080711  "
      ]
     },
     "metadata": {},
     "output_type": "display_data"
    }
   ],
   "source": [
    "# Create a connection to the database\n",
    "conn = sqlite3.connect(os.path.join(path_cwd, model_config.path_study_db))\n",
    "# Create a cursor object\n",
    "cursor = conn.cursor()\n",
    "# Execute the sql query\n",
    "cursor.execute(\"SELECT * FROM trial_params\")\n",
    "# Fetch the results\n",
    "tables = cursor.fetchall()\n",
    "\n",
    "display(util.process_study_db_trial_params(tables))\n",
    "conn.close()"
   ]
  },
  {
   "cell_type": "code",
   "execution_count": 111,
   "id": "e1bbdc82-5f27-49c3-a6f3-11893a0834e7",
   "metadata": {},
   "outputs": [
    {
     "data": {
      "text/plain": [
       "'14_02_24_07_31'"
      ]
     },
     "execution_count": 111,
     "metadata": {},
     "output_type": "execute_result"
    }
   ],
   "source": [
    "model_config.timestamp_final"
   ]
  },
  {
   "cell_type": "code",
   "execution_count": 112,
   "id": "9b551219-37ba-414a-b8db-63834b43b5c8",
   "metadata": {},
   "outputs": [
    {
     "data": {
      "text/plain": [
       "'training_data/roberta-base/final_training_14_02_24_07_31'"
      ]
     },
     "execution_count": 112,
     "metadata": {},
     "output_type": "execute_result"
    }
   ],
   "source": [
    "model_config.path_final_training"
   ]
  },
  {
   "cell_type": "code",
   "execution_count": 113,
   "id": "2a0b9092-f38a-4d02-8865-90b7d29469e4",
   "metadata": {},
   "outputs": [
    {
     "data": {
      "text/plain": [
       "'trained_models/roberta-base_14_02_24_07_31'"
      ]
     },
     "execution_count": 113,
     "metadata": {},
     "output_type": "execute_result"
    }
   ],
   "source": [
    "model_config.path_trained_model"
   ]
  },
  {
   "cell_type": "code",
   "execution_count": 114,
   "id": "d3ef9dd3-b2d4-49d3-8b7c-5aeb2a24eabe",
   "metadata": {},
   "outputs": [
    {
     "data": {
      "text/html": [
       "<div>\n",
       "<style scoped>\n",
       "    .dataframe tbody tr th:only-of-type {\n",
       "        vertical-align: middle;\n",
       "    }\n",
       "\n",
       "    .dataframe tbody tr th {\n",
       "        vertical-align: top;\n",
       "    }\n",
       "\n",
       "    .dataframe thead th {\n",
       "        text-align: right;\n",
       "    }\n",
       "</style>\n",
       "<table border=\"1\" class=\"dataframe\">\n",
       "  <thead>\n",
       "    <tr style=\"text-align: right;\">\n",
       "      <th></th>\n",
       "      <th>loss</th>\n",
       "      <th>learning_rate</th>\n",
       "      <th>eval_loss</th>\n",
       "      <th>eval_accuracy</th>\n",
       "      <th>eval_precision</th>\n",
       "      <th>eval_recall</th>\n",
       "      <th>eval_f1</th>\n",
       "      <th>eval_matthews_correlation</th>\n",
       "      <th>eval_runtime</th>\n",
       "      <th>eval_samples_per_second</th>\n",
       "      <th>eval_steps_per_second</th>\n",
       "      <th>epoch</th>\n",
       "      <th>step</th>\n",
       "    </tr>\n",
       "  </thead>\n",
       "  <tbody>\n",
       "    <tr>\n",
       "      <th>1</th>\n",
       "      <td>0.3324</td>\n",
       "      <td>0.000006</td>\n",
       "      <td>0.202017</td>\n",
       "      <td>0.920039</td>\n",
       "      <td>0.952068</td>\n",
       "      <td>0.898050</td>\n",
       "      <td>0.924270</td>\n",
       "      <td>0.841337</td>\n",
       "      <td>22.5138</td>\n",
       "      <td>92.210</td>\n",
       "      <td>11.548</td>\n",
       "      <td>1.0</td>\n",
       "      <td>743</td>\n",
       "    </tr>\n",
       "    <tr>\n",
       "      <th>2</th>\n",
       "      <td>0.1549</td>\n",
       "      <td>0.000003</td>\n",
       "      <td>0.240661</td>\n",
       "      <td>0.930154</td>\n",
       "      <td>0.958062</td>\n",
       "      <td>0.911348</td>\n",
       "      <td>0.934121</td>\n",
       "      <td>0.861115</td>\n",
       "      <td>22.6315</td>\n",
       "      <td>91.731</td>\n",
       "      <td>11.488</td>\n",
       "      <td>2.0</td>\n",
       "      <td>1486</td>\n",
       "    </tr>\n",
       "    <tr>\n",
       "      <th>3</th>\n",
       "      <td>0.1034</td>\n",
       "      <td>0.000000</td>\n",
       "      <td>0.268799</td>\n",
       "      <td>0.937861</td>\n",
       "      <td>0.963788</td>\n",
       "      <td>0.920213</td>\n",
       "      <td>0.941497</td>\n",
       "      <td>0.876382</td>\n",
       "      <td>23.0092</td>\n",
       "      <td>90.225</td>\n",
       "      <td>11.300</td>\n",
       "      <td>3.0</td>\n",
       "      <td>2229</td>\n",
       "    </tr>\n",
       "  </tbody>\n",
       "</table>\n",
       "</div>"
      ],
      "text/plain": [
       "     loss  learning_rate  eval_loss  eval_accuracy  eval_precision  \\\n",
       "1  0.3324       0.000006   0.202017       0.920039        0.952068   \n",
       "2  0.1549       0.000003   0.240661       0.930154        0.958062   \n",
       "3  0.1034       0.000000   0.268799       0.937861        0.963788   \n",
       "\n",
       "   eval_recall   eval_f1  eval_matthews_correlation  eval_runtime  \\\n",
       "1     0.898050  0.924270                   0.841337       22.5138   \n",
       "2     0.911348  0.934121                   0.861115       22.6315   \n",
       "3     0.920213  0.941497                   0.876382       23.0092   \n",
       "\n",
       "   eval_samples_per_second  eval_steps_per_second  epoch  step  \n",
       "1                   92.210                 11.548    1.0   743  \n",
       "2                   91.731                 11.488    2.0  1486  \n",
       "3                   90.225                 11.300    3.0  2229  "
      ]
     },
     "execution_count": 114,
     "metadata": {},
     "output_type": "execute_result"
    }
   ],
   "source": [
    "model_config.training_log_df"
   ]
  },
  {
   "cell_type": "code",
   "execution_count": 115,
   "id": "1c683bbf-cb51-444f-965c-55a77c497ed1",
   "metadata": {},
   "outputs": [
    {
     "data": {
      "text/plain": [
       "{'accuracy': 0.9378612716763006,\n",
       " 'precision': 0.9202127659574468,\n",
       " 'recall': 0.9637883008356546,\n",
       " 'f1': 0.9414965986394558,\n",
       " 'matthews_correlation': 0.876381746900537}"
      ]
     },
     "execution_count": 115,
     "metadata": {},
     "output_type": "execute_result"
    }
   ],
   "source": [
    "model_config.evaluation_results"
   ]
  },
  {
   "cell_type": "code",
   "execution_count": 116,
   "id": "0dfdcf67-dd41-4cce-8663-ef8abf383f4b",
   "metadata": {},
   "outputs": [
    {
     "data": {
      "text/html": [
       "<div>\n",
       "<style scoped>\n",
       "    .dataframe tbody tr th:only-of-type {\n",
       "        vertical-align: middle;\n",
       "    }\n",
       "\n",
       "    .dataframe tbody tr th {\n",
       "        vertical-align: top;\n",
       "    }\n",
       "\n",
       "    .dataframe thead th {\n",
       "        text-align: right;\n",
       "    }\n",
       "</style>\n",
       "<table border=\"1\" class=\"dataframe\">\n",
       "  <thead>\n",
       "    <tr style=\"text-align: right;\">\n",
       "      <th></th>\n",
       "      <th>Predicted Negative</th>\n",
       "      <th>Predicted Positive</th>\n",
       "    </tr>\n",
       "  </thead>\n",
       "  <tbody>\n",
       "    <tr>\n",
       "      <th>Actual Negative</th>\n",
       "      <td>909</td>\n",
       "      <td>39</td>\n",
       "    </tr>\n",
       "    <tr>\n",
       "      <th>Actual Positive</th>\n",
       "      <td>90</td>\n",
       "      <td>1038</td>\n",
       "    </tr>\n",
       "  </tbody>\n",
       "</table>\n",
       "</div>"
      ],
      "text/plain": [
       "                 Predicted Negative  Predicted Positive\n",
       "Actual Negative                 909                  39\n",
       "Actual Positive                  90                1038"
      ]
     },
     "execution_count": 116,
     "metadata": {},
     "output_type": "execute_result"
    }
   ],
   "source": [
    "pd.DataFrame(model_config.confusion_matrix, columns=['Predicted Negative', 'Predicted Positive'], index=['Actual Negative', 'Actual Positive'])"
   ]
  },
  {
   "cell_type": "code",
   "execution_count": 117,
   "id": "8f086266-a2c0-4a2a-9507-678e3b4527d8",
   "metadata": {},
   "outputs": [
    {
     "data": {
      "text/plain": [
       "{'accuracy': 0.9682080924855492,\n",
       " 'precision': 0.9680851063829787,\n",
       " 'recall': 0.9732620320855615,\n",
       " 'f1': 0.9706666666666668,\n",
       " 'matthews_correlation': 0.9359827484868714}"
      ]
     },
     "execution_count": 117,
     "metadata": {},
     "output_type": "execute_result"
    }
   ],
   "source": [
    "model_config.evaluation_results_mv"
   ]
  },
  {
   "cell_type": "code",
   "execution_count": 118,
   "id": "069e772f-7d44-4f17-9608-d7de133c3966",
   "metadata": {},
   "outputs": [
    {
     "data": {
      "text/html": [
       "<div>\n",
       "<style scoped>\n",
       "    .dataframe tbody tr th:only-of-type {\n",
       "        vertical-align: middle;\n",
       "    }\n",
       "\n",
       "    .dataframe tbody tr th {\n",
       "        vertical-align: top;\n",
       "    }\n",
       "\n",
       "    .dataframe thead th {\n",
       "        text-align: right;\n",
       "    }\n",
       "</style>\n",
       "<table border=\"1\" class=\"dataframe\">\n",
       "  <thead>\n",
       "    <tr style=\"text-align: right;\">\n",
       "      <th></th>\n",
       "      <th>Predicted Negative</th>\n",
       "      <th>Predicted Positive</th>\n",
       "    </tr>\n",
       "  </thead>\n",
       "  <tbody>\n",
       "    <tr>\n",
       "      <th>Actual Negative</th>\n",
       "      <td>153</td>\n",
       "      <td>5</td>\n",
       "    </tr>\n",
       "    <tr>\n",
       "      <th>Actual Positive</th>\n",
       "      <td>6</td>\n",
       "      <td>182</td>\n",
       "    </tr>\n",
       "  </tbody>\n",
       "</table>\n",
       "</div>"
      ],
      "text/plain": [
       "                 Predicted Negative  Predicted Positive\n",
       "Actual Negative                 153                   5\n",
       "Actual Positive                   6                 182"
      ]
     },
     "execution_count": 118,
     "metadata": {},
     "output_type": "execute_result"
    }
   ],
   "source": [
    "pd.DataFrame(model_config.confusion_matrix_mv, columns=['Predicted Negative', 'Predicted Positive'], index=['Actual Negative', 'Actual Positive'])"
   ]
  }
 ],
 "metadata": {
  "kernelspec": {
   "display_name": "venv_ml_bert",
   "language": "python",
   "name": "venv_ml_bert"
  },
  "language_info": {
   "codemirror_mode": {
    "name": "ipython",
    "version": 3
   },
   "file_extension": ".py",
   "mimetype": "text/x-python",
   "name": "python",
   "nbconvert_exporter": "python",
   "pygments_lexer": "ipython3",
   "version": "3.9.5"
  }
 },
 "nbformat": 4,
 "nbformat_minor": 5
}
